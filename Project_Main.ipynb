{
 "cells": [
  {
   "cell_type": "markdown",
   "id": "7088b527-0745-4428-90bb-27281e48fe97",
   "metadata": {},
   "source": [
    "Notebook by **Jakob R. Jürgens** - Final project for the course **Computational Statistics** in the summer semester 2021 - Find me at [jakobjuergens.com](https://jakobjuergens.com) <br>\n",
    "# Comparison of Variable Importance Feature Selection Methods in Continuous Response Random Forest\n",
    "---\n",
    "\n",
    "## Introduction <a name=\"introduction\"></a>\n",
    "---\n",
    "When using tree based methods such as random forests there are typically two appraoches. In the vocabulary of *Hapfelmeier and Ulm (2013)* which will be an important part of this project:\n",
    "1. \"**Performance-based**\" approaches that try to achieve the best prediction accuracy without meaningful interest in interpreting the results of the procedure beyond its predictive capabilities\n",
    "2. \"**Test-based**\" approaches typically used to identify variables with predictive qualities for a response variable with the intention of building a model on top of this information\n",
    "\n",
    "This project will compare methods that are supposed to fulfill the second purpose and show the differences in their choice of variables that are supposedly informative on a continuous response variable. <br>\n",
    "Therefore, I first introduce a selection of variable importance measures and selection criteria built up on them as well as a collection of biases that have been identified in the literature associated with different methods. Then I present some specificities of the packages in use during the simulation and additional functions written by me. Third, I present the simulation conducted to compare the variable selection methods presented before and its results. Then an application to a data set from biostatistics is introduced and probed with the same methods to determine the most informative variables. Finally, I summarize my findings and give an outlook on further possible extensions to the framework presented before.\n",
    "\n",
    "\n",
    "## Table of Contents <a name=\"tableofcontents\"></a>\n",
    "---\n",
    "1. [Introduction](#introduction)\n",
    "2. [Table of Contents](#tableofcontents)\n",
    "3. [Preliminary Steps & Important Information](#preliminaries)\n",
    "4. [Theory Prerequisites](#Theory)\n",
    "    1. [Classification and Regression Trees](#CART)\n",
    "    1. [Random Forests](#RF)\n",
    "    1. [Feature Selection and Importance Measures](#FS_IM)\n",
    "    1. [Selection Biases](#selbias)\n",
    "    1. [Conditional Variable Importance for Random Forests](#CVI)\n",
    "    1. [Conditional Inference Trees](#CIT)\n",
    "    1. [Conditional Inference Random Forests](#CIRF)\n",
    "    1. [Permutation Approach by Altmann et al. (2010)](#altmnn)\n",
    "    1. [Permutation Approach by Hapfelmeier and Ulm (2013)](#hpflmr_ulm)\n",
    "5. [Implementations](#implementation)\n",
    "    1. [package randomForest](#pckg_rf)\n",
    "    1. [package party & partykit](#pckg_party)\n",
    "6. [Simulation Study](#simulation)\n",
    "    1. [Functions for Simulation](#functions)\n",
    "    1. [Simulation Code](#code)\n",
    "    1. [Simulation Results](#res)\n",
    "7. [Application](#application)\n",
    "8. [Conclusion](#conclusion)\n",
    "9. [Outlook and possible Extensions](#outlook)\n",
    "10. [Bibliography](#bibliography)"
   ]
  },
  {
   "cell_type": "markdown",
   "id": "4de19b2c-ccff-4066-86bf-c2e4ee2ff975",
   "metadata": {},
   "source": [
    "## Preliminary Steps & Important Information<a name=\"preliminaries\"></a>\n",
    "---"
   ]
  },
  {
   "cell_type": "markdown",
   "id": "c4ad4722-399d-44af-ad03-b3cce197199f",
   "metadata": {},
   "source": [
    "* In the following, blocks of word for word quotes are marked by indentations as the following example illustrates:\n",
    "> EXAMPLE\n",
    "\n",
    "* Some of the simulations take multiple hours to run on a high-end desktop. Reasonably most of these are better suited for a computation cluster - especially the *Hapfelmann and Ulm (2013)* simulations using Conditional Inference Random Forests are extremely computationally expensive (calculating more than one million conditional inference trees for a single simulation run is expected) and future simulations should be done on large multicore systems.\n",
    "\n",
    "* Seeds for random number generation are set more often than is necessary for replicability. However, the way it is set up makes it easier to follow why this is the case."
   ]
  },
  {
   "cell_type": "markdown",
   "id": "f7f36728-d000-4b9a-bd9b-9972261735d8",
   "metadata": {},
   "source": [
    "Package Installations if necessary:"
   ]
  },
  {
   "cell_type": "code",
   "execution_count": 41,
   "id": "0ab58a88-1f81-4006-8c5f-eceed561ea2e",
   "metadata": {},
   "outputs": [],
   "source": [
    "#install.packages(\"qut\")\n",
    "#install.packages(\"randomForest\")\n",
    "#install.packages(\"party\")\n",
    "#install.packages(\"partykit\")\n",
    "#install.packages(\"parallel\")\n",
    "#install.packages(\"MASS\")\n",
    "#install.packages(\"tidyverse\")\n",
    "#install.packages(\"repr\")\n",
    "#install.packages(\"patchwork\")"
   ]
  },
  {
   "cell_type": "markdown",
   "id": "c6d1eb5b-cbec-485f-80f9-287c22f0f782",
   "metadata": {},
   "source": [
    "Load packages:"
   ]
  },
  {
   "cell_type": "code",
   "execution_count": 3,
   "id": "d6a9e0bc-896f-4107-a6bf-105a2e7cba03",
   "metadata": {},
   "outputs": [
    {
     "name": "stderr",
     "output_type": "stream",
     "text": [
      "Warning message:\n",
      "“package ‘partykit’ was built under R version 3.6.3”"
     ]
    }
   ],
   "source": [
    "suppressMessages(library(qut)) # for data set \"riboflavin\"\n",
    "suppressMessages(library(randomForest)) # for normal random forests\n",
    "suppressMessages(library(party)) # to allow for conditional inference trees\n",
    "suppressMessages(library(partykit)) # to allow for conditional inference random forests\n",
    "suppressMessages(library(parallel)) # for parallelisation of the simulations\n",
    "suppressMessages(library(MASS)) # for multivariate normal distributions\n",
    "suppressMessages(library(tidyverse)) # for general programming (mostly purrr & ggplot used)\n",
    "suppressMessages(library(repr)) # for changing plot sizes\n",
    "suppressMessages(library(patchwork)) # for combining plots\n",
    "\n",
    "options(repr.plot.width=30, repr.plot.height=8)"
   ]
  },
  {
   "cell_type": "markdown",
   "id": "ea1ea896-a555-494b-84c2-818530848a52",
   "metadata": {},
   "source": [
    "Load Data set for application part:"
   ]
  },
  {
   "cell_type": "code",
   "execution_count": 4,
   "id": "0ba4ce32-5584-47d2-a5d4-b33588fc147a",
   "metadata": {},
   "outputs": [],
   "source": [
    "data(riboflavin)"
   ]
  },
  {
   "cell_type": "markdown",
   "id": "bf48c320-b71c-439b-bf33-d751b4e7d602",
   "metadata": {},
   "source": [
    "Import from Auxiliary files:"
   ]
  },
  {
   "cell_type": "code",
   "execution_count": 5,
   "id": "add01ce2-e061-40ea-b4c2-5b02c9197561",
   "metadata": {},
   "outputs": [],
   "source": [
    "source(\"Auxiliary/Visualizations.R\")"
   ]
  },
  {
   "cell_type": "markdown",
   "id": "5364e733-17a4-452a-b63b-56d046fd251b",
   "metadata": {},
   "source": [
    "Decide:\n",
    "* whether simulations are performed or results are loaded from saved results.\n",
    "* whether new results shall overwrite previously saved results"
   ]
  },
  {
   "cell_type": "code",
   "execution_count": 6,
   "id": "df44d2ae-508c-452c-997c-88b59dae624e",
   "metadata": {},
   "outputs": [],
   "source": [
    "simulate <- TRUE\n",
    "overwrite <- TRUE"
   ]
  },
  {
   "cell_type": "markdown",
   "id": "040f5ba1-661e-47d7-bb5b-2ad252a4da27",
   "metadata": {},
   "source": [
    "Setup for Parallelization:"
   ]
  },
  {
   "cell_type": "code",
   "execution_count": 7,
   "id": "e41a1e9f-530c-4d2a-a288-f4a844e079c2",
   "metadata": {},
   "outputs": [
    {
     "name": "stdout",
     "output_type": "stream",
     "text": [
      "[1] 12\n"
     ]
    }
   ],
   "source": [
    "print(n_cores <- parallel::detectCores())"
   ]
  },
  {
   "cell_type": "markdown",
   "id": "54b2fabd-1c10-40a7-bbe9-0bbba117108d",
   "metadata": {},
   "source": [
    "## Theory Prerequisites<a name=\"theory\"></a>\n",
    "---\n",
    "Before going into the details of the simualtion study conducted in this project, I first introduce some theoretical concepts that are necessary to get an informed understanding of the simulation procedures and to interpret the results of said simulations. As the focus of the simulation will lie on different variable importance based feature seclection methods, I will introduce a selection of increasingly complex methods that in turn try to address biases of proviously developped methods. Since most of these methods are either not based on hypothesis testing (**CART**) or test for the violation of slightly different hypotheses, it will be important to spell out the methods and hypotheses in detail to allow for interpretation of the results in a later part of this project. <br>\n",
    "\n",
    "Additionally I give references to papers that lay the theoretical foundation of these concepts or prove the stated features of the statistical objects as a thorough presentation of the theoretical background of especially the methods based on a framework of permutation tests is out of the scope of this project. This is also meant to serve as a historical motivation for the simulation study as the methods presented follow an evolution of tree based methods to address a specific class of problems found over time."
   ]
  },
  {
   "cell_type": "markdown",
   "id": "ec7d0859-8ab4-4e95-b455-88120a5b7d2b",
   "metadata": {},
   "source": [
    "### Classification and Regression Trees <a name=\"CART\"></a>\n",
    "---\n",
    "I take the Classification and Regression Tree Algorithm (**CART**) introduced by *Breiman, Friedman, Olshen, and Stone (1984)* as a baseline for the points made in the next paragraphs. So when a bias in the original procedure is addressed, this is to be taken as a statement relating to **CART** and Random Forests built on top of it. Therefore, I am introducing this algorithm first to make the differences clearer when talking about later approaches. I am limiting my description to the regression case of **CART** as regression problems in distinction to classification problems will be the focus of this project. For my presentation of the algorithm I am following Chapter 8 in *James, Witten, Hastie, and Tibshirani (2013)* in my description of the algorithm. <br>\n",
    "The authors split up the process of building a regression tree into the following two steps (quoting from the book)\n",
    "\n",
    "> 1. <em> We divide the predictor space [$X$] — that is, the set of possible values for X<sub>1</sub> , X<sub>2</sub> , . . . , X<sub>p</sub> — into J distinct and non-overlapping regions, R<sub>1</sub> , R<sub>2</sub> , . . . , R<sub>J</sub>. </em>\n",
    "> 2. <em> For every observation that falls into the region R<sub>j</sub>, we make the same prediction, which is simply the mean of the response values for the training observations in R<sub>j</sub>. </em>\n",
    "\n",
    "and elaborate on  both steps in more detail after. <br>\n",
    "Relating to the creating of the distinct non-overlapping regions mentioned in step one choices have to be made in multiple dimensions:\n",
    "* What types of regions are to be considered? \n",
    "* In what sense should a set of regions be optimal i.e. what criterion is used to evaluate a sets performance?\n",
    "* Shall there be a stopping criterion, that prohibits further splitting, even if it would improve the tree's performance according to the chosen criterion?\n",
    "* What method shall be used to find the optimal set?\n",
    "\n",
    "Typical choices for these points are the following:\n",
    "* Only consider regions that are p-dimensional rectangles. This allows for splits to be decided according to the value of one covariate at each node. <br>\n",
    "Other possibilities could be linear combinations of covariates leading to a different tree concept for example.\n",
    "* The criterion to evaluate a set's performance can be chosen quite freely, but a typical choice is the sum of squared residuals (**RSS**).\n",
    "\n",
    "\\begin{equation}\n",
    "    \\text{RSS} = \\sum_{j=1}^J \\sum_{i \\in R_j} (y_i - \\hat{y}_{R_j})^2\n",
    "\\end{equation}\n",
    "\n",
    "* A typical choice for a stopping criterion is a minimal number of observations in a region. Even if an optimal split would decrease **RSS** for the overall tree, the split is not performed as to not fall under this threshold.\n",
    "* In a setting with a finite amount of observations, it is theoretically possible to evaluate all possible splits (up to identical fitted values) corresponding to regions as described above. <br>\n",
    "This, however, is computationally infeasible. Therefore, an approach called **Recursive Binary Splitting** is taken that follows a greedy, top-down structure.\n",
    "\n",
    "Again quoting from *James, Witten, Hastie, and Tibshirani (2013)*: <br>\n",
    "> <em> The approach is top-down because it begins at the top of the tree [...] and then successively splits the predictor space; each split is indicated via two new branches further down on the tree. </em> <br>\n",
    "> <em> It is greedy because at each step of the tree-building process, the best split is made at that particular step, rather than looking ahead and picking a split that will lead to a better tree in some future step. </em> \n",
    "\n",
    "At each step of the tree building process, splits are constructed according to a criterion that evaluates their performance. <br>\n",
    "Assume that **RSS** was chosen as a criterion and that at a node $N_k$ currently represents a p-dimensional rectangle $R_k$. We then construct the next split at this node by minimizing the **RSS** of the full tree over all possible splits at this node. This is equivalent to minimizing the **RSS** on $R_i$ by splitting up $R_k$ into two disjoint p-dimensional rectangles in some in some dimension $j \\in \\{1, \\dots, p\\}$ at a threshold value $s$. In mathematical terms, slightly modifying the definitions from *James, Witten, Hastie, and Tibshirani (2013)*, let \n",
    "\n",
    "\\begin{equation}\n",
    "R_{k,1}(j,s) = R_k \\cap \\{X | X_j < s\\} \\quad \\text{and} \\quad R_{k,2}(j,s) = R_k \\cap \\{X | X_j \\geq s\\}\n",
    "\\end{equation}\n",
    "\n",
    "and choose $j$ and $s$ to minimize\n",
    "\n",
    "\\begin{equation}\n",
    "\\sum_{i: x_{i} \\in R_{k,1}(j, s)}\\left(y_{i}-\\hat{y}_{R_{k,1}}\\right)^{2}+\\sum_{i: x_{i} \\in R_{k,2}(j, s)}\\left(y_{i}-\\hat{y}_{R_{k,2}}\\right)^{2}\n",
    "\\end{equation}\n",
    "\n",
    "where $\\hat{y}_{R_{k,1}}$ and $\\hat{y}_{R_{k,2}}$ are the means of the dependent variable of the observations in the resulting rectangles. <br>\n",
    "\n",
    "A tree is constructed by recursively applying this procedure to nodes until no further splits can be made without violating the stopping condition (or until no more splits can be made that improve the **RSS**). <br>\n",
    "Given a tree, prediction of the dependent variable given observed covariates is done by checking which p-dimensional rectangle a new observation falls into and using the assigned value of this rectangle. <br>\n",
    "\n",
    "As can be seen in this description of the building process there is no significance testing and no formulation of a hypothesis in creating splits or in the stopping condition. This can be problematic for interpretability, but as regression trees and later random forests are often treated as black boxes in the sense that their splits are not to be interpreted in a real world sense, but used more for their properties in prediction accuracy the underlying simplicity of this procedure might be more desirable than more advanced methods presented in later sections that allow for more statistical insight in their interpretation.\n",
    "    "
   ]
  },
  {
   "cell_type": "markdown",
   "id": "e0088691-5b3f-4504-b2ec-3b6db37d6d80",
   "metadata": {},
   "source": [
    "### Random Forests <a name=\"RF\"></a>\n",
    "---\n",
    "Building up on this rather simple way to construct a tree, there are multiple ways to improve predictive performance among other properties by combining multiple trees. One such method introduced by *Ho (1995)* and extended by *Breiman (2001)* is Random Forest. <br>\n",
    "In contrast to Boosting which uses a combination of weak learners to improve its bias, Random Forest is based on the averaging of strong learners to decrease variance. Analoguous to a simple scalar case concerning for example the estimation of the population mean from a sample, the decrease in variance via averaging depends on the correlation between the data points. In case of Random Forests this relates to the correlation between the predictions of each individual tree. \n",
    "\n",
    "The idea is to construct multiple trees, often deliberately overfitting the data, and to average their results to obtain an overall prediction of the forest. This can for example be used to improve prediction quality but also to improve the procedures qualities for feature selection. <br>To decorrelate the trees, Random Forest deploys two important variations on the original regression tree idea.\n",
    "* Like in bagging each tree is constructed on a bootstrapped sample of the original data. \n",
    "* At each split in a tree, only a subset of dimensions is considered during its creation. A typical choice in the case of p covariates is to randomly choose $m \\approx \\sqrt{p}$ covariates that are considered for the new split. <br>\n",
    "(m = p corresponds to bagging)\n",
    "\n",
    "Mathematically speaking, the construction of each tree happens as follows:\n",
    "1. Construct a bootstrap sample $B_l = \\{b_1^l, \\dots, b_w^l\\}$ of size w from the original data set. <br>\n",
    "(This can also be varied to build trees on subsamples without replacement. For the sake of simplicity, I focus on the bootstrapping approach and later elaborate on cases where subsampling without replacement is used instead.)\n",
    "2. Construct a tree on $B_l$ instead of the original data set as described in the previous section with the following modification:\n",
    "\n",
    "Assume again, that a node $N_k^l$ represents a p-dimensional rectangle $R_k^l$ and that a new split is to be implemented at $N_k^l$. For the sake of simplicity assume that the chosen stopping condition is not violated. <br>\n",
    "Let $M_k^l \\subseteq \\{1, \\dots, p\\}$ with $|M_k^l| = m$ for some $m \\in \\mathcal{N}$. <br>\n",
    "\n",
    "As previously defined, let\n",
    "\n",
    "\\begin{equation}\n",
    "R_{k,1}^l(j,s) = R_k^l \\cap \\{X | X_j < s\\} \\quad \\text{and} \\quad R_{k,2}^l(j,s) = R_k^l \\cap \\{X | X_j \\geq s\\}\n",
    "\\end{equation}\n",
    "\n",
    "be the p-dimensional rectangles created by a new split in dimension $j$ at threshold $s$. <br>\n",
    "Now choose $j \\in M_i^l$ and $s$ to minimize\n",
    "\n",
    "\\begin{equation}\n",
    "\\sum_{i: x_{i} \\in R_{k,1}^l(j, s)}\\left(y_{i}-\\hat{y}_{R_{k,1}^l}\\right)^{2}+\\sum_{i: x_{i} \\in R_{k,2}^l(j, s)}\\left(y_{i}-\\hat{y}_{R_{k,2}^l}\\right)^{2}\n",
    "\\end{equation}\n",
    "\n",
    "where $\\hat{y}_{R_{k,1}^l}$ and $\\hat{y}_{R_{k,2}^l}$ are the means of the dependent variable of the bootstrap observations in the resulting rectangles. <br>\n",
    "\n",
    "Aggregation of results can happen in a multitude of ways: typical choices in the case of prediction are mean or median of the predicted values from the constructed trees. In random forests it is typical to not prune trees and to deliberately overfit as to efficiently use the low bias while reducing the variance with averaging. Therefore it is often advisable to set a liberal stopping criterion, if one even chooses to implement a binding stopping criterion."
   ]
  },
  {
   "cell_type": "markdown",
   "id": "a300bc81-b1c5-419e-98f9-8aa789611821",
   "metadata": {},
   "source": [
    "### Feature Selection and Importance Measures <a name=\"FS_IM\"></a>\n",
    "---\n",
    "\n",
    "As this project is mostly concerned with the selection of features with predictive qualities for the dependent variable over raw predictive performance of the overall model, it is important to elaborate on the procedures used to determine a covariate's importance in this regard. Depending of the context the notion of importance for the prediction of a dependent variable can be different. Two reasonable concepts of variable importance employed in different real world scenarios are the following:\n",
    "\n",
    "1. Variables that are informative for the value of the dependent variable themselves or correlated to informative variables should have high variable importance.\n",
    "2. Only variables that are informative for the dependent variable themselves should have high variable importance.\n",
    "\n",
    "As the focus of this project lies on cases with continuous response variables, the importance measures used in the case of regression trees and random forests derived from them are of bigger importance in this context. However, similar measures based on the Gini impurity or Shannon entropy are available for classification problems and much of the following theory carries over. Nevertheless, focus will lie on the case of continuous response variables in the following. In general the question of the predictive quality of a covariate $X_j$ for a response variable $Y$ in the first sense shown above is typically associated with an orthogonality hypothesis as follows:\n",
    "\n",
    "\\begin{equation}\n",
    "H_0: Y \\perp X_j\n",
    "\\end{equation}\n",
    "\n",
    "However, typical independence measures used in the literature often either check a slightly different hypothesis or only rank possible predictors according to an importance criterion without making statements on the hypothesis above. Additionally slightly more advanced hypotheses actually referring to independence not only orthogonality are used if the second notion of informative covariates is used. In the following I will therefore give an overview over some typical and more advanced variable importance criteria to compare them in a simulation study.\n",
    "\n",
    "#### Variance Reduction\n",
    "\n",
    "A typical importance measure for covariates in regression trees is the sum of reduction in **RSS** that is achieved at notes corresponding to a specific covariate. Recall the explanation of the splitting procedure in regression trees given a few paragraphs above. As the defining factor for the choice of dimension and threshold was the resulting reduction in **RSS**, it seems reasonable to evaluate the importance of a covariate by looking at the reduction in **RSS** in the whole tree attributable to splits in the corresponding dimension. <br>\n",
    "Let $N^j(T)$ be the set of nodes of tree $T$ that implement splits in $X_j$. At each of these nodes there is a corresponding value of **RSS** pre-splitting and post-splitting. Call these values $\\textbf{RSS}_{pre}(N)$ and $\\textbf{RSS}_{post}(N)$ for a generic node $N \\in N^j(T)$. A typical importance measure for the case of the regression variant of **CART** is then given by:\n",
    "\n",
    "\\begin{equation}\n",
    "\\textbf{VIM}_{RSS}(T, X_j) = \\sum_{N \\in N^j(T)}\\big[ \\textbf{RSS}_{pre}(N) - \\textbf{RSS}_{post}(N) \\big]\n",
    "\\end{equation}\n",
    "\n",
    "For the case of Random Forests, one idea is to carry over this metric and enter consideration via averaging over all trees of the forest. <br>\n",
    "Assuming that $L$ trees $T_{B_1}, \\dots, T_{B_L}$ were constructed based on bootstrap samples $B_1, \\dots, B_L$ as described in the section on random forests, an overall importance measure of covariate $X_j$ could then be implemented as\n",
    "\n",
    "\\begin{equation}\n",
    "\\textbf{VIM}_{RF}(X_j) = \\frac{1}{L} \\sum_{l = 1}^L \\textbf{VIM}_{RSS}(T_{B_l}, X_j).\n",
    "\\end{equation}\n",
    "\n",
    "This is a rather intuitive criterion. However, it has some flaws and can be improved in some regards using a little more sophistication. As this method will not be in the focus of the later simulations, I limit the extent of this presentation to a short list of ideas as an appropriate discussion is out of the scope of this project. These points can serve as a starting grounds for further literature review for an interested reader.\n",
    "\n",
    "* Instead of using the bootstrapped training data to evaluate the importance of a feature, it is possible and in some cases advisable to base the importance measure on the out of bag (**OOB**) observations that are not part of the bootstrap sample.\n",
    "* The squared sum of residuals is not necessarily optimal in this regard. Prediction accuracy on the **OOB** observations is another reasonable choice.\n",
    "* Weighted averages or the median could be employed instead of the unweighted mean.\n",
    "\n",
    "This importance measure belongs to the category of measures that only rank predictors according to a criterion without an underlying hypothesis of orthogonality or independence. This however must not be a disadvantage in some scenarios, when interpretation of a model is not of utmost importance and achieving high predictive accuracy with a limited set of predictors is the goal.\n",
    "\n",
    "#### Permutation Accuracy Importance in Random Forests\n",
    "\n",
    "There is also a different kind of importance measure derived from random forests based on a framework of permutation. These methods, though a little more complex than those based on averaging, gained popularity and are more typical in applied work using random forests for feature selection. In my presentation of the basic permutation based importance measures for Random Forest, I am going to follow *Strobl, Boulesteix, Zeileis, and Hothorn (2007)*. The authors give the following rationale for this class of importance measures\n",
    "\n",
    "> By randomly permuting the predictor variable X<sub>j</sub>, its original association with the response Y is broken. When the permuted variable X<sub>j</sub>, together with the remaining unpermuted predictor variables, is used to predict the response, the prediction accuracy [...] decreases substantially, if the original variable X<sub>j</sub> was associated with the response. Thus, a reasonable measure for variable importance is the difference in prediction accuracy before and after permuting X<sub>j</sub>.\n",
    "\n",
    "The example made in the paper relates to a classification problem, where prediction accuracy can be identified by the share of correctly classified observations. In a later paper (*Strobl, Boulesteix, Kneib, Augustin, and Zeiles (2008)*) the authors give the following formula for the case of a classification random forest, which can easily be adjusted to define a similar measure for regression random forests. The following formula describes the importance measure derived for a single tree:\n",
    "\n",
    "\\begin{equation}\n",
    "    \\textbf{VI}^{(t)}\\left(\\mathbf{X}_{j}\\right)=\\frac{\\sum_{i \\in {\\overline{\\mathcal{B}}}^{(t)}} I\\left(y_{i}=y_{i}^{(t)}\\right)}{|\\overline{\\mathcal{B}}^{(t)}|}-\\frac{\\sum_{i \\in {\\overline{\\mathcal{B}}}^{(t)}} I\\left(y_{i}=y_{i, \\pi_{j}}^{(t)}\\right)}{|\\overline{\\mathcal{B}}^{(t)}|}\n",
    "\\end{equation}\n",
    "\n",
    "where \n",
    "* $\\overline{\\mathcal{B}}^{(t)}$ is the out of bag (**OOB**) sample for a tree $t$ of the forest\n",
    "* $y_{i}$ is the class of an observation\n",
    "* $y_{i}^{(t)}$ is the class assigned to an observation by tree $t$\n",
    "* $y_{i, \\pi_{j}}^{(t)}$ is the class assigned to an observation with permuted dimension $X_j$ by tree $t$\n",
    "\n",
    "Again, this criterion depends on an aggregation over all trees in the forest, for which the authors suggest an unweighted mean over the importance measures given by the individual trees.\n",
    "\n",
    "\\begin{equation}\n",
    "\\textbf{VI}\\left(\\mathbf{X}_{j}\\right) = \\frac{\\sum_{t=1}^{\\text{ntree}}{\\textbf{VI}^{(t)}}\\left(\\mathbf{X}_{j}\\right)}{\\text{ntree}}\n",
    "\\end{equation}\n",
    "\n",
    "Adjusting these measures to work for continuous response variables leads to something akin to the following formulas:\n",
    "\n",
    "\\begin{equation}\n",
    "    \\textbf{VI}^{(t)}\\left(\\mathbf{X}_{j}\\right)=\\frac{\\sum_{i \\in {\\overline{\\mathcal{B}}}^{(t)}} \\left(y_{i} - y_{i, \\pi_{j}}^{(t)}\\right)^2}{|\\overline{\\mathcal{B}}^{(t)}|} - \\frac{\\sum_{i \\in {\\overline{\\mathcal{B}}}^{(t)}} \\left(y_{i} - y_{i}^{(t)}\\right)^2}{|\\overline{\\mathcal{B}}^{(t)}|}\n",
    "\\end{equation}\n",
    "\n",
    "where \n",
    "* $\\overline{\\mathcal{B}}^{(t)}$ is the out of bag (**OOB**) sample for a tree $t$ of the forest\n",
    "* $y_{i}$ is the response variable of an observation\n",
    "* $y_{i}^{(t)}$ is the predicted response variable assigned to an observation by tree $t$\n",
    "* $y_{i, \\pi_{j}}^{(t)}$ is the predicted response variable assigned to an observation with permuted dimension $X_j$ by tree $t$\n",
    "\n",
    "and aggregation is again done via averaging.\n",
    "\n",
    "In the same paper (*Strobl et al.(2008)*) the authors relate this approach to a slightly different hypothesis then the independence of $X_j$ and $Y$ presented in the beginng. The authors argue that this simple permutation approach instead also incorporates the covariates $Z = X_1, \\dots, X_{j-1}, X_{j+1}, \\dots, X_p$ that $X_j$ is permuted relative to in addition to $Y$. Therefore the implied hypothesis of this approach is instead the following:\n",
    "\n",
    "\\begin{equation}\n",
    "H_0: X_j \\perp Y, Z\n",
    "\\end{equation}\n",
    "\n",
    "This leads to the possibility that a change in the correlation structure due to the premutation can influence a possible test statistic in the direction of discarding the hypothesis. This, however, is typically not a desired property of a feature selection method which led to the devellopment of their conditional importance measures presented in a later paragraph, that tries to remedy this problem. Interestingly this can even lead to cases where correlation between uninformative predictors that are also not correlated with informative predictors can lead to a violation of the independence hypothesis, due to the change in correlation structure after one of them was permuted.\n",
    "\n",
    "It is important to see that contrary to the importance measures in a single non-random tree the importance measures in a random forest are inherently stochastic. Not only due to the random nature of the trees themselves but also due to the randomness of the permutations used to calcualte a permutation variable importance. Therefore it is important to not use a small number of trees in a random forest for variable selection and in some cases it is even advisable to do multiple permutations per tree for the calculation of permutation based importance measures. The latter part, however, is often overgone in favor of increasing the number of trees, which provide sufficient accuracy of the importance measure. <br>\n",
    "\n",
    "Like the previous method, this version of permutation importance serves as a means to rank predictors according to some importance criterion but does not immediately provide a testing framework to determine if individual variables have predictive qualities.\n",
    "\n",
    "#### Remarks\n",
    "When looking at the previously made categorization, both of these measures fall into category 1. and cannot easily be used to separate intrinsically informative variables from those that are only correlated to directly informative variables. \n"
   ]
  },
  {
   "cell_type": "markdown",
   "id": "319d028a-d90f-47fb-8545-da64f8325f78",
   "metadata": {},
   "source": [
    "### Selection Biases <a name=\"selbias\"></a>\n",
    "---\n",
    "The methods for feature selection described in the previous section have been employed successfully in a plethora of applications. However, theoretical analyses have shown, that there are systematic biases towards specific types of variables exhibited by these methods. *Strobl, Boulesteix, Zeileis, and Hothorn (2007)* summarise previous findings on variable selection biases in random forests due to biases present in the individual trees (*Kononenko (1995)*, *Dobra and Gehrke (2001)*, and others) and extend the attention to biases present due to bootstrapping in the construction of the forest. The authors conduct a simulation study to compare different random forest based importance measures and to study their inherent biases when confronted with data of different structure.\n",
    "\n",
    "Important findings summarised by the authors and supported by the simulaton studies are the following:\n",
    "* Methods based on **CART** have an inherent bias towards predictors with many categories or a continuous scale over predictors with a low number of categories. This bias is inherited by the bias of trees created by **CART** and can be addressed in multiple ways.<br> \n",
    "This can intuitively be explained by the greater number of possible splits in a dimension with more levels. By pure chance some of these will lead to a larger reduction in **RSS** due to their greater number when compared to a predictor with a low number of categories. Due to exponential growth of possible splits with the number of categories this effect becomes very pronounced for predictors with a large number of categories of a continuous measuring scale.\n",
    "* A second bias is introduced by a difference in ranges of prediction accuracy realized by variables preferred at different (nearly hierachical) levels of the tree. <br>\n",
    "Variables that appear in nodes high up the tree more often are inherently linked to greater changes in prediction accuracy than those that more typically appear close to the bottom of a tree. Thies becomes clear when looking at the set of variables influenced at each node, which is bigger at the top of the tree. Due to this effect, the deviation of variable importance measures associated to such predictors is typically large and therefore biases the selection of features when using permutation importance.\n",
    "* An additional bias is caused by the bootstrapping procedure used to construct a random forest in most cases. <br>\n",
    "The authors explain this by giving an analogy from independence testing, specifically $\\chi^2$-tests. The p-values of this test in a setting of uninforamtive predictors (so under the Null-hypothesis of independence) should be uniformly distributed on $[0,1]$. This property is shown as expected in a simulation study where no bootstrapping is performed. If however testing is done on bootstrapped data drawn from data sets generated under the Null-hypothesis, this distribution gets increasingly skewed as predictors have increasingly high numbers of categories. The authors use this example to illustrate that theoretical contributions of *Bickel and Ren (2001)* also apply to variable selection in random forests constructed by bootstrapping. <br>\n",
    "However, the authors also elaborate on the strngth of this bias when compared to the one introduced by using **CART** and show by comparing multiple simulation studies that the bias generated by bootstrapping is by far weaker and therefore superposed by the inherent selection bias of **CART** towards variables with more categories.\n",
    "\n",
    "In *Strobl, Boulesteix, Kneib, Augustin, and Zeileis (2008)* the authors additionally go into further detail on biases towards correlated predictor variables and develop a conditional permutation scheme to improve the computed variable importance measures to combat these biases. This is especially interesting when using the second notion of variable importance mentioned above, meaning that variables that are not intrinsically informative on the response variable but only correlated with at least one such variable are not to be considered relevant. To do so they introduce a modified permutation scheme to base an importance measure on which is explained in the next section. <br>\n",
    "\n",
    "One further bias addressed by *Hapfelmeier, Hothorn, and Ulm (2014)* is relevant when missing data is introduced to the underlying data set. This will not be part of the simulation study, but due to interesting properties that could be part of further analysis shall be adressed here shortly. It is dealing with different methods that deal with the problem of missing data, as many typical approaches are not applicable in such a setting. To do so, they compare methods like complete case analysis, multiple imputation and a new selection criterion originally developped by the authors. They come to the conclusion that methods like complete case analysis can add to significant biases an address these problems with more advanced methods."
   ]
  },
  {
   "cell_type": "markdown",
   "id": "4ffdb75f-1bd5-40de-af8a-a834edba59ba",
   "metadata": {},
   "source": [
    "### Conditional Variable Importance for Random Forests <a name=\"CVI\"></a>\n",
    "---\n",
    "\n",
    "As mentioned in the previous subsection, *Strobl, Boulesteix, Kneib, Augustin, and Zeiles (2008)* identify additional biases and develop a new approach to compute unbiased variable importance measures. These belong to a new class called conditional variable importance measures and are based on permutation in the same sense as previously described methods. However, to improve on certain properties permutation only takes place within specified subsets of the data used to create the tree.\n",
    "\n",
    "The bias identified by the authors comes into effect when multiple covariates are correlated and it becomes important to distinguish between the marginal effect of an increase in one dimension and the conditional influence in relation to a set of conditioning variables. The authors describe that in a setting like random forest based on **CART** variable importance measures will not be able to effectively distinguish truly influential predictor variables from those that are only correlated with influential predictors and perform a simulaton study to illustrate this point. The theoretical intuition given for this phenomenon is provided in form of an analogy to permutation tests, where a typical (unconditional) permutation approach as described before relates to a different hypothesis that can be violated by a change in the test statistic not attributable to a change in the relation to the response variable but in the correlation structure of the observables as presented in the section of the simple permutation approach. <br>\n",
    "As this is often not the intended outcome in feature selection the authors present a rationale to limit permutations of individual covariates in **OOB** observations to regions of predictor spaced defined by the tree's structure as to adequately address conditioning on other predictors in feature selection. <br>\n",
    "The authors also extend this structure to cases where the conditioning variables can be chosen manually but describe the typical case of conditioning induced by the tree structure in the following sense (for the sake of simplicity visualizations are done with two predictor variables):\n",
    "\n",
    "Imagine that a tree came up with the following partitioning of a two dimensional predictor space and the derived regions for permutation of a covariate:"
   ]
  },
  {
   "cell_type": "code",
   "execution_count": 6,
   "id": "3ef42b0f-e825-40ee-b778-aa197c94945f",
   "metadata": {},
   "outputs": [
    {
     "data": {
      "image/png": "[encoded data removed]",
      "text/plain": [
       "plot without title"
      ]
     },
     "metadata": {},
     "output_type": "display_data"
    }
   ],
   "source": [
    "CVI_vis()"
   ]
  },
  {
   "cell_type": "markdown",
   "id": "c7dcacda-5379-4334-89a7-09c4e38a0477",
   "metadata": {},
   "source": [
    "The permutation scheme relies on extending each split not only to the subtree used for its creation, but to the whole predictor space. This partition of the predictor space is then used to determine which observations form groups in which permutation takes place. The authors argue that this serves to changes the hypothesis implied in the variable importance to\n",
    "\n",
    "\\begin{equation}\n",
    "H_0: (X_j \\perp Y)\\: | \\:Z.\n",
    "\\end{equation}\n",
    "\n",
    "In a continuous setting where the precise argument is more difficult to make, they argue that this serves as a reasonable approximation as observations with identical realizations of covariates are unlikely but observations in the same region are suitably comparable to apply the procedure nevertheless. It is easy to see, that this hypothesis is identical to to the original one under the assumption of independence between $X_j$ and $Z$, in case of correlated predictors however, there is an important difference in the conditioning. In more recent literature conditional importance measures are sometimes linked to approaches that are only supposed to identify inherently informative variables and not those that are correlated to them. This approach however is still under development and therefore will only have a limited role in the simulation parts of this project."
   ]
  },
  {
   "cell_type": "markdown",
   "id": "7b033d43-0937-4500-9512-03d9d07e99ca",
   "metadata": {},
   "source": [
    "### Conditional Inference Trees <a name=\"CIT\"></a>\n",
    "---\n",
    "Introduced by *Hothorn, Hornik, and Zeileis (2006)*, Conditional Inference Trees (**CIT**) try to address the problem of selection bias of typical random trees based for example on **CART** decribed in a previous paragraph by modifying the recursive binary partitioning procedure. To do so they devise a method based on a testing framework for permutation tests by *Strasser and Weber (1999)*. The authors describe the algorithm used to construct the tree in the following three steps (quote):\n",
    "> 1. For case weights $w$ test the global null hypothesis of independence between any of the\n",
    "$m$ covariates and the response. Stop if this hypothesis cannot be rejected. Otherwise\n",
    "select the $j^{*}$th covariate $X_{j^{*}}$ with strongest association to $Y$.\n",
    "> 2. Choose a set $A^{*} \\subset \\mathcal{X}_{j^{*}}$ in order to split $\\mathcal{X}_{j^{*}}$ into two disjoint sets $A^{*}$ and $\\mathcal{X}_{j^{*}} \\setminus A^{*}$. The case weights $w_{\\text{left}}$ and $w_{\\text{right}}$ determine the two subgroups with $w_{\\text{left}, i} = w_i I(\\mathcal{X}_{j^{*} \\: i} \\in A^{*})$ and $w_{\\text{right}, i} = w_i I(\\mathcal{X}_{j^{*} \\: i} \\notin A^{*})$ for all $i = 1, \\dots , n\\quad$ ($I(\\:)$ denotes\n",
    "the indicator function).\n",
    "> 3. Recursively repeat Steps 1 and 2 with modified case weights $w_{\\text{left}}$ and $w_{\\text{right}}$, respectively.\n",
    "\n",
    "Here the non-negative integer-valued weights $w$ serve as indicators as to which region of predictor space an observation lies in.\n",
    "\n",
    "Where in **CART** the variable $X_j$ with strongest association to $Y$ would be chosen by comparing the reduction in **RSS**, this method employs a different approach. Given the global hypothesis of independence $H_0$ between $X$ and $Y$ at a node, partial independence hypotheses $H_0^j$ for each dimension $X_j$ are constructed and tested using a linear hypothesis in the framework of permutation tests. If the global hypothesis cannot be discarded from the teststatistic constructed from the calculations of the partial hypotheses, an additional split is performed in the dimension where the test statistic for the partial independence hypothesis is associated with the smallest p-value. Here a multiple testing correction for the partial hypotheses becomes important due to the interaction of testing multiple hypotheses while also wanting to control the family wise error rate (**FWER**). Concerning this correction the authors name a simple bonferroni correction while also referring to more advanced multiple testing literature.<br>\n",
    "Mathematically, the authors represent this interaction of hypotheses as follows (adjusted to the notation previously used in this project):\n",
    "\n",
    "\\begin{equation}\n",
    "H_0 = \\bigcap_{j = 1}^p H_0^j \\quad \\text{where} \\quad H_0^j: D(Y|X_j) = D(Y) \\quad \\text{or formulated as in previous hypotheses} \\quad H_0^j: Y \\perp X_j\n",
    "\\end{equation}\n",
    "\n",
    "A theoretical presentation of the testing framework is out of the scope of this project, but intuitively this method leads to a stopping criterion based on statistical testing theory and fixed levels of significance and thereby improves interpretability of results (at each split an uninformative variable is chosen with a probability of $\\alpha$ or less) and works against overfitting (by introducing an alternative stopping criterion based on the global hypothesis of independence at a node). In simulations performed by the authors this mehod is competitive with optimally pruned trees created by **CART** while also improving on the variable selection biases exhibited by previous methods."
   ]
  },
  {
   "cell_type": "markdown",
   "id": "b2767d46-5547-46f3-bb67-af0f357bd5db",
   "metadata": {},
   "source": [
    "### Conditional Inference Random Forests <a name=\"CIRF\"></a>\n",
    "---\n",
    "Given that conditional inference trees are only based on a different method to construct a structurally similar tree to **CART** it is not surprising that a random forest can be based on **CIT** as well. This has been done previously and apart from a considerably higher computational cost from **CIT** random forest has shown expected improvements over **CART** random forest in addressing the inherent biases of **CART** towards variables with more categories or continuous scale. However, as previously mentioned simulation studies have shown that constructing a random forest via bootstrapping has its own biases which are not corrected by simply switching the basal tree type of a random forest to **CIT**. <br>\n",
    "\n",
    "However, one additional important difference to the random forests employed in most implementations, conditional inference random forest is typically paired not with a bootstrapping procedure, but instead uses subsampling without replacement due to desirable properties illustrated in *Strobl, Boulesteix, Zeileis, and Hothorn (2007)* associated to the bootstrapping bias motivated above. This for example also applies to the functions used in the simulations and is further elaborated on in the part on implementation."
   ]
  },
  {
   "cell_type": "markdown",
   "id": "a0286afb-a7f3-44a0-8235-753129e45a1a",
   "metadata": {},
   "source": [
    "### Permutation Approach by Altmann et al. (2010) <a name=\"altmnn\"></a>\n",
    "---\n",
    "In *Altmann, Toloşi, Sander, and Lengauer (2010)* the authors develop a different approach on permutation based importance called p-values computed with permutation importance (**PIMP**). Their idea is to calculate any importance measure and to then apply a bias correction as follows. The notion of importance used by the authors again <br>\n",
    "\n",
    "For $s$ iterations randomly permute the response variable before constructing a random forest on the partially permuted data set. Calculate the same importance measure as in the original data set for each possible predictor. This produces a vector of length $s$ for each predictor containing importance measures under the hypothesis of independence between the predictors and the response variable, called the null importances. Using this vector of null importances a selection of distributions can be fit to the observed importance measures, which in turn can be used to calculate a p-value for the hypothesis that the original importance measure was drawn from this distribution. This also allows for a testing procedure where variables are chosen for a predictive model if their p-value lies above a specific threshold. In the original paper the formulation is slightly unclear, whether multivariate distributions are fit to the matrix of observed importance measures or univariate distributions are fit to each individual predictor. Supplementary material provided by the authors and later implementations however use the second approach and fit univariate distributions to the Null importances for each predictor. <br>\n",
    "The authors also include a non-parametric approach to estimate the p-values of the original importance measure based on the fraction of null-importances more extreme than the original importance, which is equivalent to a testing approach based on a Monte-Carlo approximation of the distribution of importance measures under the Null-hypothesis.\n",
    "\n",
    "One important difference comparing this method to the previous permutation approach is the conservation of the correlation structure of the predictors. In this case, even if the test statistic was sensitive to changes in their structure, it could not influence the final assessment of a predictor due to no relative permutation between the predictors. It is also developed as a correction tool for other variable importance measures and therefore quite generally applicable. Additionally it introduces the possibility to use significance testing for variable selection which can be desirable for interpretation and model building to variable importance measures that typically do not inherently have this possibility."
   ]
  },
  {
   "cell_type": "markdown",
   "id": "f6e5c84c-bee9-4e21-9909-d1353000f797",
   "metadata": {},
   "source": [
    "### Permutation Approach by Hapfelmeier and Ulm (2013) <a name=\"hpflmr_ulm\"></a>\n",
    "---\n",
    "Developed by *Hapfelmeier and Ulm (2013)* there is another permutation based approach for feature selection that at the cost of further icreasing computational cost improves on certain properties of previous approaches. Their idea again relies on approximating the distribution of an importance measure for each covariate under a specific independence hypothesis using a form of Monte-Carlo simulation to employ possible tests for feature selection as *Altmann, Toloşi, Sander, and Lengauer (2010)* did before them. Due to a theoretical argument made in *Strobl and Zeileis (2008)*, the authors conclude that the approach followed by *Altmann, Toloşi, Sander, and Lengauer (2010)* is not theoretically sound in analysing hypotheses of independence for individual covariates as *\"alarming statistical properties [...] any statement of significance made with this test is nullified\" (from *Strobl and Zeileis (2008)*). This theoretical argument is based on a dependence of such a test's power on the number of trees. Therefore they propose an approach based also on creating random forests on partially permuted data sets, which instead of applying permutation to the response variable is based on permuting predictors one by one to approximate the distribution of interest. <br>\n",
    "\n",
    "Quoting from the paper the algorithm works as follows:\n",
    "> 1. Compute any kind of importance measure using the original data.\n",
    "> 2. Permute each variable separately and several times to assess the empirical distribution of its importance measure under\n",
    "$H_0 (1)$.\n",
    "> 3. Assess the p-value for each variable by means of the empirical distributions and the original importance measures.\n",
    "> 4. Select the variables with a p-value below a certain threshold, optionally with Bonferroni-Adjustment (or any other method\n",
    "that controls the FDR [false discovery rate] or FWER [family-wise error rate]).\n",
    "\n",
    "where \n",
    "\\begin{equation}\n",
    "    H_0(1): Y, \\mathbf{Z} \\perp X_j \\quad \\text{and} \\quad \\mathbf{Z} = \\mathbf{X} \\setminus X_j\n",
    "\\end{equation}\n",
    "\n",
    "As this formalization of the underlying hypothesis shows, a change in correlation structure within $\\mathbf{X}$ due to permutation could in this case also add to an indicated violation of the hypothesis. However, the authors give the argument, that typical importance measures for trees are not dependent on the relation to other covariates as the test statistics in some of the previous tests inherently are. Therefore, in praxis this formal difference in hypotheses should not be of relevance in practice for most importance measures. <br> \n",
    "A practical concern with this feature selection procedure is inherent computational cost due to the recalculation of many random forests for each variable. This can quickly be costly to the point of becoming infeasible timewise in very high dimensional settings. This can be remedied by the structure of the calculations which allow for simple paralleliztaion due to the process falling into a category of problems called \"embarassingly parallel\" as creation of many permutations and the creation of random forests can happen independently in a parallelized procedure."
   ]
  },
  {
   "cell_type": "markdown",
   "id": "742685fd-e460-4301-bde7-2ed0c0a498fc",
   "metadata": {},
   "source": [
    "## Implementations <a name=\"implementation\"></a>\n",
    "---\n",
    "To understand the simulations conducted in the later parts of this project it is also important to understand what is actually calculated when using the preimplemented functions of the packages. These will mainly include **randomForest**, **party**, and **partykit**.\n",
    "The relevant citations for these packages are included in the biobliography and can additionally be accessed using the *citation(\"\\<packagename\\>\")* command. For more detailed information on the packages refer to the manuals provided on **CRAN** by the authors.\n",
    "\n",
    "### package randomForest <a name=\"pckg_rf\"></a>\n",
    "---\n",
    "The package R *randomForest* is mostly known for the function of the same name *randomForest()*. I implmenets the random forest described above based on **CART** and boostrapping. <br>\n",
    "When using the R package *randomForest* (*Liaw and Wiener (2001)*) as I will be in parts of the simulation studies, up to four importance measures are calculated when applying the function *randomForest*. For their definitions  the authors refer to *Breiman (2002)*. The following excerpts are quoted from the manual:\n",
    "\n",
    "Measure 1:\n",
    "> To estimated the importance of the mth variable. In the left out\n",
    "cases for the kth tree, randomly permute all values of the mth\n",
    "variable Put these new covariate values down the tree and get\n",
    "classifications. <br>\n",
    "> Proceed as though computing a new internal error rate. The amount\n",
    "by which this new error exceeds the original test set error is defined\n",
    "as the importance of the mth variable.\n",
    "\n",
    "Measures 2 and 3:\n",
    ">For the nth case in the data, its margin at the end of a run is the\n",
    "proportion of votes for its true class minus the maximum of the\n",
    "proportion of votes for each of the other classes. The 2nd measure\n",
    "of importance of the mth variable is the average lowering of the\n",
    "margin across all cases when the mth variable is randomly permuted\n",
    "as in method 1. <br>\n",
    ">\n",
    ">The third measure is the count of how many margins are lowered\n",
    "minus the number of margins raised.\n",
    "\n",
    "Measure 4:\n",
    "> The splitting criterion used in RF is the gini criterion--also used in\n",
    "CART. At every split one of the mtry variables is used to form the\n",
    "split and there is a resulting decrease in the gini. The sum of all\n",
    "decreases in the forest due to a given variable, normalized by the\n",
    "number of trees, froms (sic) measure 4.\n",
    "\n",
    "Measure 1 is the typical case of a permutation based importance measure as previously motivated. \n",
    "\n",
    "### package party & partykit <a name=\"pckg_party\"></a>\n",
    "---\n",
    "\n",
    "The R packages *party* and *partykit* will be mostly used for their implementations of *CIT* and random forests based on **CIT**. The latter is based on subsampling without replacement instead of bootstrapping to address the biases associated with bootstrapping procedures in random forests. The following information is taken from the official documentation on **CRAN** for the corresponding packages.\n",
    "\n",
    "**partykit::cforest()** <br>\n",
    "\n",
    "**partykit::varimp()** <br>\n",
    "Given a random forest generated by *cforest()*, this function is used to calculate variable importance measures \" permutation principle of the ‘mean decrease in accuracy’ importance in ‘randomForest’.\" <br>\n",
    "The argument *conditional* decides whether a conditional variable importance as described in *Strobl, Boulesteix, Kneib, Augustin, and Zeiles (2008)* (**conditional == TRUE**) or a non-conditional importance measure is computed."
   ]
  },
  {
   "cell_type": "markdown",
   "id": "2714248d-d6fa-4e93-810c-94fd92c5ce44",
   "metadata": {},
   "source": [
    "## Simulation Study <a name=\"simulation\"></a>\n",
    "---\n",
    "For the simulation part of this project I am going to conduct two simulations to compare how the previously presented methods deal with different data generating processes. These are meant to exemplify the biases addressed in the earlier parts of the theoretical introduction. I am also going to compare the runtime of the different methods. Concerning the latter, it is important to see, that these are specific to my machine and the specific implementation I chose, However, a qualitative difference should become apparent that absent major changes should translate to other scenarios. <br>\n",
    "\n",
    "The simulation settings I decided to pursue are the following:\n",
    "1. Uncorrelated, uninformative predictors in a low dimensional setting with differing numbers of categories (from binary to continuous)\n",
    "    * Response variable Y: uniformly distributed on $[0,1]$\n",
    "    * 6 predictors: \n",
    "        * 5 uniformly distributed categorical variables with increasing number of categories (2,4,6,8,10) <br>\n",
    "        * 1 continuous predictor uniformly distributed on $[0,1]$\n",
    "    * All variables are drawn independently from eachother\n",
    "    * 100 observations\n",
    "2. Correlated, informative predictors in a low dimensional setting with continuous scale\n",
    "\n",
    "The first is meant to identify biases towards variables with a larger number of categories or a continuous measuring scale, as an unbiased criterion should choose variables with an equal frequency. <br>\n",
    "The second simulation is meant to address problems related to correlated predictors and to serve as a means to differentiate between the different concepts of informative predictors. As to not confound the biases due to number of categories or measuring scale, these predictors are all measured on a continuous scale. <br>\n",
    "\n",
    "It would also be interesting to do simulations on high dimensional data. However, especially the Methods proposed by *Altmann, Toloşi, Sander, and Lengauer (2010)* and *Hapfelmeier and Ulm (2013)* are too computationally intensive when used in conjunction with random forests based on **CIT** to perform scientifially interesting simulations in a meaningful high dimensional setting on a personal computer. These simulations most likely would have to be performed on a cluster which could be done quite easily with the codes provided in this project due to the chosen route of parallelization. This is sadly out of the scope of this project due to the associated cost of using High Performance Computing Resources (**HPC**), that are prohibitive in the context of a term project.\n",
    "\n",
    "### Functions for Simulation <a name=\"functions\"></a>\n",
    "---\n",
    "To make the actual simulation code easier to follow, I define a set of functions that are used in the latter parts of the code to improve readability. These are all tasked with a small subset of the overall simulation as dictated by the functional programming paradigm inherent to languages such as R. The "
   ]
  },
  {
   "cell_type": "markdown",
   "id": "b6502773-3c8d-4d64-b2e4-13e608627c1b",
   "metadata": {},
   "source": [
    "#### Data Generators\n",
    "I create two separate data generators. One [*data_generator_A()*] for simulation 1 and a second one [*data_generator_B()*] for simulation 2.<br>\n",
    "Data generator A has the following arguments:\n",
    "* **seed**: seed for random number generation\n",
    "* **n**: number of observations\n",
    "* **catvec**: vector containing the number of categories used to create predictors\n",
    "* **ncont**: number of continuous predictors\n",
    "\n",
    "Whereas Data generator B has the following arguments:\n",
    "* "
   ]
  },
  {
   "cell_type": "code",
   "execution_count": 10,
   "id": "23ae39ec-d540-485f-8b64-e2e01e5a9069",
   "metadata": {},
   "outputs": [],
   "source": [
    "# Data generation for simulations 1 and 2\n",
    "\n",
    "data_generator_A <- function(seed = NULL, n, catvec, ncont){\n",
    "    \n",
    "    # in case the seed is missing, generate one at random (if reproducibility is not necessary)\n",
    "    if(missing(seed)){seed <- sample(1:10e6, size = 1)}\n",
    "    set.seed(seed)\n",
    "    \n",
    "    # create list of levels for categorical variables\n",
    "    levels <- c(paste0(\"lv\", as.character(1:(max(catvec)))))\n",
    "    \n",
    "    # initialize data.frame with only the response variable\n",
    "    data <- data.frame(Y = runif(n = n, min = 0, max = 1))\n",
    "    \n",
    "    # Generate categorical predictors with increasing number of categories\n",
    "    cat_predictors <- suppressMessages(\n",
    "        data.frame(\n",
    "            map(.x = catvec,\n",
    "                .f = function(ncat) sample(levels[1:ncat], size = n, replace = TRUE)),\n",
    "            stringsAsFactors = TRUE)\n",
    "        )\n",
    "        \n",
    "    # Generate uniformly distributed continuous predictors\n",
    "    cont_predictors <- suppressMessages(\n",
    "        data.frame(\n",
    "            map(.x = 1:ncont,\n",
    "                .f = function(i) runif(n = n, min = 0, max = 1)))\n",
    "        )\n",
    "            \n",
    "    # Bind columns of data.frame            \n",
    "    data <- cbind(data, cat_predictors, cont_predictors)                                  \n",
    "    # Give appropriate names to columns                \n",
    "    names(data) <- c('Y', paste0('X_', as.character(1:(length(catvec) + ncont))))\n",
    "    # Return data.frame            \n",
    "    return(data)\n",
    "}\n",
    "            \n",
    "# Data generation for simulations 3 and 4\n",
    "            \n",
    "data_generator_B <- function(seed = NULL, n, ncont){\n",
    "    \n",
    "    if(missing(seed)){seed <- sample(1:10e6, size = 1)}\n",
    "    set.seed(seed)\n",
    "    \n",
    "    \n",
    "}   "
   ]
  },
  {
   "cell_type": "markdown",
   "id": "ba1832d6-697d-4c1b-9b4f-99c8ff5b6011",
   "metadata": {},
   "source": [
    "#### permute_dim\n",
    "\n",
    "This function takes an index **i** and a data.frame **df** and randomly permutes the covariate / the dependent variable corresponding to the given index. <br>\n",
    "As an example **i = 2** corresponds to **X_2**. To permute **Y** set **i = 0**. <br>\n",
    "\n",
    "Relating this to the previously introduced procedures, setting **i = 0** is a typical step in *Altmann, Toloşi, Sander, and Lengauer (2010)*, whereas the other dimensions are in use for simulations corresponding to *Hapfelmeier and Ulm (2013)*. <br>\n",
    "The function's arguments are:\n",
    "* **i**: index of column to permute, if i == 0 permute Y\n",
    "* **df**: data.frame with data"
   ]
  },
  {
   "cell_type": "code",
   "execution_count": 20,
   "id": "e9f5d42a-3fdc-43aa-b0d2-6b02c1577395",
   "metadata": {},
   "outputs": [],
   "source": [
    "permute_dim <- function(i = 0, df){\n",
    "    \n",
    "    # check if index is out of bounds\n",
    "    if((i < 0) || (i > dim(df)[2] - 1)){\n",
    "        stop(\"'permute_dim' - index error\")\n",
    "    }\n",
    "    \n",
    "    n_obs <- dim(df)[1]\n",
    "    # permute Y if i == 0\n",
    "    if(i == 0){\n",
    "        df$Y <- sample(df$Y, size = n_obs, replace = FALSE)\n",
    "    } \n",
    "    # Otherwise permute chosen column of X\n",
    "    else{\n",
    "        df[[i+1]] <- sample(df[[i+1]], size = n_obs, replace = FALSE)\n",
    "    }\n",
    "    # return permuted objects for further analysis\n",
    "    return(df)\n",
    "}"
   ]
  },
  {
   "cell_type": "markdown",
   "id": "32b7e5b1-16d5-43be-9440-a74bc02829f1",
   "metadata": {},
   "source": [
    "#### parallel_helper\n",
    "This function acts as a helper to the parallelized procedure. Given an index **i** and a data.frame **df**, it randomly permutes the entry corresponding to the index and creates a random forest according to the choice of *rf_type* using the partially permuted data. The random forest is then returned. <br>\n",
    "Its arguments are:\n",
    "* **i**: index given to permute_dim\n",
    "* **df**: data.frame with data\n",
    "* **ntree**: number of trees used in the construction of the random forests\n",
    "* **seed**: seed for random number generation\n",
    "* **rf_type**: a string determining the type of random forest to be calculated\n",
    "* **full**: boolean that decides whether the full trees or only the importance measures are returned"
   ]
  },
  {
   "cell_type": "code",
   "execution_count": 21,
   "id": "f1748fd4-aae0-4bc8-afa1-7f261040c770",
   "metadata": {},
   "outputs": [],
   "source": [
    "parallel_helper <- function(i, df, ntree, seed, rf_type = 'cforest', full = FALSE){\n",
    "    \n",
    "    #set seed to ensure reproducibility\n",
    "    set.seed(seed)\n",
    "    \n",
    "    # randomly permute chosen entry\n",
    "    tmp_df <- permute_dim(i, df)\n",
    "    \n",
    "    # return chosen type of random forest\n",
    "    ### !!! This isnt yet correctly implemented\n",
    "    if(rf_type == 'cforest'){\n",
    "        if(full == TRUE){\n",
    "            return(cforest(formula = Y ~ ., data = tmp_df))\n",
    "        }\n",
    "        else{\n",
    "            return(\n",
    "                data.frame(uncond_imp = varimp(cforest(formula = Y ~ ., data = tmp_df, ntree = ntree)),\n",
    "                           cond_imp = varimp(cforest(formula = Y ~ ., data = tmp_df, ntree = ntree))))\n",
    "        }\n",
    "    }\n",
    "    if(rf_type == 'randomForest'){\n",
    "        if(full == TRUE){\n",
    "            return(randomForest(formula = Y ~ ., data = tmp_df, importance = TRUE, ntree = ntree))\n",
    "        }\n",
    "        else{\n",
    "            return(randomForest(formula = Y ~ ., data = tmp_df, importance = TRUE, ntree = ntree)$importance)\n",
    "        }\n",
    "    }\n",
    "    else(stop(\"'parallel helper' - wrong rf_type argument\"))\n",
    "}"
   ]
  },
  {
   "cell_type": "markdown",
   "id": "18aa0c64-2117-4e73-be31-49f0ad19afc9",
   "metadata": {},
   "source": [
    "#### parallel_permute_forest\n",
    "This function acts as a wrapper to **parallel_helper** and performs non-load-balanced cluster parallelization to speed up the process while still ensuring reproducibility. <br>\n",
    "Its arguments are:\n",
    "* **cl**: a cluster object generated by the parallel package (for UNIX based systems use Forking Cluster, for Windows switch function calls to PSOCK Cluster and ensure that functions are available in the scope of the respective nodes)\n",
    "* **i**: index given to **parallel_helper**\n",
    "* **df**: data.frame given to **parallel_helper**\n",
    "* **ntree**: number of trees used in the construction of the random forests\n",
    "* **reps**: number of repetitions for **parallel helper**. If provided together with seeds, ensure that the number of seeds is identical to reps.\n",
    "* **df**: vector of integers given to **parallel_helper** as seeds in parallelization. If provided together with reps, ensure that the number of seeds is identical to reps.\n",
    "* **full**: boolean that decides whether the full trees or only the importance measures are returned"
   ]
  },
  {
   "cell_type": "code",
   "execution_count": 22,
   "id": "ae7b8df9-c7d2-49a2-8b33-c9e7e3e4bbe6",
   "metadata": {},
   "outputs": [],
   "source": [
    "parallel_permute_forest <- function(cl, i, df, ntree, reps = NULL, seeds = NULL, rf_type = 'cforest', full = FALSE){\n",
    "    \n",
    "    # Check argument structure\n",
    "    if(missing(reps) && missing(seeds)){\n",
    "        stop(\"'parallel_permute_forest' - Insufficient arguments: one of reps or seeds has to be provided\")\n",
    "    } else if(missing(seeds)){\n",
    "        seeds <- sample(1:10e8, size = reps, replace = FALSE)\n",
    "    } else if(missing(reps)){\n",
    "        reps <- length(seeds)\n",
    "    } else if(length(seeds) != reps){\n",
    "        stop(\"'parallel_permute_forest' - number of seeds is different from reps\")\n",
    "    }\n",
    "    \n",
    "    # use non-load-balancing cluster parallelization to speed up the process and ensure reproducibility\n",
    "    rnd_frsts <- clusterApply(cl = cl,\n",
    "                              x = seeds,\n",
    "                              fun = function(seed) parallel_helper(i = i, df = df, ntree = ntree, seed = seed, \n",
    "                                                                   rf_type = rf_type, full = full))\n",
    "    \n",
    "    # return list of conditional inference random forests generated in parallel\n",
    "    return(rnd_frsts)\n",
    "}"
   ]
  },
  {
   "cell_type": "markdown",
   "id": "62941653-42e0-4294-9272-7d53b8c571bb",
   "metadata": {},
   "source": [
    "#### Altmann et al. (2010) - Null Importance Generator\n",
    "The following function generates Null importances in the sense of *Altmann, Toloşi, Sander, and Lengauer (2010)* given a set of arguments:\n",
    "* **cl**: a cluster object generated by the parallel package (for UNIX based systems use Forking Cluster, for Windows switch function calls to PSOCK Cluster and ensure that functions are available in the scope of the respective nodes)\n",
    "* **seed**: seed for random number generation\n",
    "* **df**: data.frame containing the data\n",
    "* **ntree**:number of trees used in the construction of the random forests\n",
    "* **reps**: number of repetitions for **parallel helper**.\n",
    "* **rf_type**: a string determining the type of random forest to be calculated\n",
    "* **file**: if provided, results of the calculation are saved to the given path\n",
    "\n",
    "There actually are premade implementations of the **PIMP** algorithm in packages such as *vita* (https://cran.r-project.org/web/packages/vita/index.html). To follow an approach more comparable to *Hapfelmeier and Ulm (2013)* I still decided to implement the method myself due to their inherent similarities to increase comparability when using the nonparametric approach for *Altmann, Toloşi, Sander, and Lengauer (2010)*."
   ]
  },
  {
   "cell_type": "code",
   "execution_count": 23,
   "id": "10446379-cc39-48d0-bc3d-0457a7a9ccf0",
   "metadata": {},
   "outputs": [],
   "source": [
    "Altm_Null_Imp <- function(cl, seed, df, ntree, reps = NULL, rf_type = 'cforest', file = NULL){\n",
    "     \n",
    "    # Check for necessary argument\n",
    "    if(missing(reps)){\n",
    "        stop(\"'Altm_Null_Imp' - reps not specified\")\n",
    "    }\n",
    "    \n",
    "    # if seed nod provided, draw one at random\n",
    "    if(missing(seed)){seed <- sample(1:10e6, size = 1)}\n",
    "    set.seed(seed)\n",
    "    \n",
    "    # draw seeds for permutations in parallel\n",
    "    tmp_seeds <- sample(1:10e6, size = reps, replace = FALSE)\n",
    "    \n",
    "    # Calculate Null Importances with parallel_permute_forest and i=0\n",
    "    Null_Imp <- parallel_permute_forest(cl = cl, i = 0, df = df, ntree = ntree,\n",
    "                                        seeds = tmp_seeds, rf_type = rf_type, full = FALSE)\n",
    "    \n",
    "    # if file argument was provided save results accordingly\n",
    "    if(missing(file) == FALSE){\n",
    "        saveRDS(object = Null_Imp, file = file)\n",
    "    }\n",
    "    \n",
    "    # return Null importances\n",
    "    return(Null_Imp)\n",
    "}"
   ]
  },
  {
   "cell_type": "markdown",
   "id": "db6ee182-4381-4539-95f1-ae578499f39b",
   "metadata": {},
   "source": [
    "#### Hapfelmeier and Ulm (2013) - Null Importance Generator\n",
    "The following function generates Null importances in the sense of *Hapfelmeier and Ulm (2013)* given a set of arguments:\n",
    "* **cl**: a cluster object generated by the parallel package (for UNIX based systems use Forking Cluster, for Windows switch function calls to PSOCK Cluster and ensure that functions are available in the scope of the respective nodes)\n",
    "* **seed**: seed for random number generation\n",
    "* **df**: data.frame containing the data\n",
    "* **ntree**: number of trees used in the construction of the random forests\n",
    "* **reps**: number of repetitions for **parallel helper**.\n",
    "* **rf_type**: a string determining the type of random forest to be calculated\n",
    "* **file**: if provided, results of the calculation are saved to the given path"
   ]
  },
  {
   "cell_type": "code",
   "execution_count": 24,
   "id": "d97f5858-e191-4d01-81fd-98e8f45df181",
   "metadata": {},
   "outputs": [],
   "source": [
    "HU_Null_Imp <- function(cl, seed, df, ntree, reps = NULL, rf_type = 'cforest', file = NULL){\n",
    "    \n",
    "    # Check for necessary argument\n",
    "    if(missing(reps)){\n",
    "        stop(\"'HU_Null_Imp' - reps not specified\")\n",
    "    }\n",
    "    \n",
    "    # if seed nod provided, draw one at random\n",
    "    if(missing(seed)){seed <- sample(1:10e6, size = 1)}\n",
    "    set.seed(seed)\n",
    "    \n",
    "    #determine number of predictors from data set\n",
    "    num_predictors <- dim(df)[2] - 1\n",
    "    \n",
    "    # draw seeds for permutations in parallel\n",
    "    tmp_seeds <- sample(1:10e6, size = reps, replace = FALSE)\n",
    "    \n",
    "    # initialize empty list (improve here!)\n",
    "    Null_Imp <- list()\n",
    "    \n",
    "    # not optimal due to copy on modify...\n",
    "    for(j in 1:num_predictors){\n",
    "        Null_Imp[[j]] <- parallel_permute_forest(cl = cl, i = j, df = df, ntree = ntree, \n",
    "                                                 seeds = tmp_seeds, rf_type = rf_type, full = FALSE)\n",
    "    }\n",
    "    \n",
    "    # if file argument was provided save results accordingly\n",
    "    if(missing(file) == FALSE){\n",
    "        saveRDS(object = Null_Imp, file = file)\n",
    "    }\n",
    "    \n",
    "    # return Null importances\n",
    "    return(Null_Imp)\n",
    "}"
   ]
  },
  {
   "cell_type": "markdown",
   "id": "67977187-37af-475e-976a-ad555e40d062",
   "metadata": {},
   "source": [
    "#### Hapfelmann and Ulm (2013) - Extraction of relevant importances and Transformation of Output\n",
    "* **HU_RF_Null_Imp**: Output of *HU_Null_Imp()*\n",
    "* **rf_type**: a string determining the type of random forest used in the input"
   ]
  },
  {
   "cell_type": "code",
   "execution_count": 25,
   "id": "9dbd6214-4643-42bc-a3df-28c71706b280",
   "metadata": {},
   "outputs": [],
   "source": [
    "HU_NullImp_RF_Transf <- function(HU_RF_Null_Imp, rf_type = 'cforest'){\n",
    "    \n",
    "    if(rf_type == 'randomForest'){\n",
    "        # infer number of predictors and number of forests from argument object\n",
    "        num_predictors <- length(HU_RF_Null_Imp)\n",
    "        num_forests <- length(HU_RF_Null_Imp[[1]])\n",
    "    \n",
    "        # initialize objects for reformatting\n",
    "        MSE_inc <- matrix(data = NA, nrow = num_predictors, ncol = num_forests)\n",
    "        node_impur <- matrix(data = NA, nrow = num_predictors, ncol = num_forests)\n",
    "    \n",
    "        # extract importance measures and put into reformatted objects\n",
    "        for(i in 1:num_predictors){\n",
    "        \n",
    "            MSE_inc[i,] <- unlist(\n",
    "                map(.x = HU_RF_Null_Imp[[i]],\n",
    "                    .f = function(rf) rf[i,1]))\n",
    "                \n",
    "            node_impur[i,] <- unlist(\n",
    "                map(.x = HU_RF_Null_Imp[[i]],\n",
    "                    .f = function(rf) rf[i,2]))\n",
    "        }\n",
    "    \n",
    "        # return reformatted importance measures\n",
    "        return(list(MSE_inc = MSE_inc,\n",
    "                    node_impur = node_impur))\n",
    "                    \n",
    "    } else if(rf_type == 'cforest'){\n",
    "        # infer number of predictors and number of forests from argument object\n",
    "        num_predictors <- length(HU_RF_Null_Imp)\n",
    "        num_forests <- length(HU_RF_Null_Imp[[1]])\n",
    "    \n",
    "        # initialize objects for reformatting\n",
    "        uncond <- matrix(data = NA, nrow = num_predictors, ncol = num_forests)\n",
    "        cond <- matrix(data = NA, nrow = num_predictors, ncol = num_forests)\n",
    "    \n",
    "        # extract importance measures and put into reformatted objects\n",
    "        for(i in 1:num_forests){\n",
    "            \n",
    "            uncond[i,] <- unlist(\n",
    "                map(.x = HU_RF_Null_Imp[[i]],\n",
    "                    .f = function(rf) rf[i,1]))\n",
    "                \n",
    "            cond[i,] <- unlist(\n",
    "                map(.x = HU_RF_Null_Imp[[i]],\n",
    "                    .f = function(rf) rf[i,2]))\n",
    "        }\n",
    "     \n",
    "        # return reformatted importance measures\n",
    "        return(list(uncond = uncond,\n",
    "                    cond = cond))\n",
    "    } else{\n",
    "        stop(\"'HU_NullImp_RF_Transf' - incorrect rf_type\")\n",
    "    }\n",
    "}"
   ]
  },
  {
   "cell_type": "markdown",
   "id": "d224cdd0-ca89-4a3a-a5cc-fa445dfcf878",
   "metadata": {},
   "source": [
    "#### Altmann et al. (2010) - Transformation of Output\n",
    "* **Atlm_RF_Null_Imp**: Output of *Altm_Null_Imp()*\n",
    "* **rf_type**: a string determining the type of random forest used in the input"
   ]
  },
  {
   "cell_type": "code",
   "execution_count": 26,
   "id": "6475e8d9-a517-4263-9d7d-a2cfe83eb109",
   "metadata": {},
   "outputs": [],
   "source": [
    "Altm_NullImp_Transf <- function(Altm_RF_Null_Imp, rf_type = 'cforest'){\n",
    "    \n",
    "    if(rf_type == 'randomForest'){\n",
    "        # infer number of predictors and number of forests from argument object\n",
    "        num_predictors <- dim(Altm_RF_Null_Imp[[1]])[1]\n",
    "        num_forests <- length(Altm_RF_Null_Imp)\n",
    "    \n",
    "        # initialize objects for reformatting\n",
    "        MSE_inc <- matrix(data = NA, nrow = num_predictors, ncol = num_forests)\n",
    "        node_impur <- matrix(data = NA, nrow = num_predictors, ncol = num_forests)\n",
    "    \n",
    "        # extract importance measures and put into reformatted objects\n",
    "        for(i in 1:num_forests){\n",
    "            MSE_inc[,i] <- Altm_RF_Null_Imp[[i]][,1]\n",
    "            node_impur[,i] <- Altm_RF_Null_Imp[[i]][,2]\n",
    "        }\n",
    "     \n",
    "        # return reformatted importance measures\n",
    "        return(list(MSE_inc = MSE_inc,\n",
    "                    node_impur = node_impur))\n",
    "                    \n",
    "    } else if(rf_type == 'cforest'){\n",
    "        # infer number of predictors and number of forests from argument object\n",
    "        num_predictors <- dim(Altm_RF_Null_Imp[[1]])[1]\n",
    "        num_forests <- length(Altm_RF_Null_Imp)\n",
    "    \n",
    "        # initialize objects for reformatting\n",
    "        uncond <- matrix(data = NA, nrow = num_predictors, ncol = num_forests)\n",
    "        cond <- matrix(data = NA, nrow = num_predictors, ncol = num_forests)\n",
    "    \n",
    "        # extract importance measures and put into reformatted objects\n",
    "        for(i in 1:num_forests){\n",
    "            uncond[,i] <- Altm_RF_Null_Imp[[i]][,1] \n",
    "            cond[,i] <- Altm_RF_Null_Imp[[i]][,2]\n",
    "        }\n",
    "     \n",
    "        # return reformatted importance measures\n",
    "        return(list(uncond = uncond,\n",
    "                    cond = cond))\n",
    "    } else{\n",
    "        stop(\"'Altm_NullImp_RF_Transf' - incorrect rf_type\")\n",
    "    }\n",
    "}                    "
   ]
  },
  {
   "cell_type": "markdown",
   "id": "5f7a10c4-4a06-4cf8-aeea-e0953a446814",
   "metadata": {},
   "source": [
    "#### Determine non-parametric p-value of importance measure\n",
    "* **imp**: realized importance measure without permutation\n",
    "* **vec_null_imp**: vector of null importances"
   ]
  },
  {
   "cell_type": "code",
   "execution_count": 27,
   "id": "5c499558-d0ed-4869-918c-6576acc8f37e",
   "metadata": {},
   "outputs": [],
   "source": [
    "imp_p_val <- function(imp, vec_null_imp){\n",
    "    \n",
    "    # create temporary ecdf for null importances\n",
    "    tmp_ecdf <- ecdf(vec_null_imp)\n",
    "    # return approx. p-value for realized importance measure\n",
    "    return(tmp_ecdf(imp))\n",
    "}"
   ]
  },
  {
   "cell_type": "markdown",
   "id": "7f1099a4-d439-4fb2-9528-1f546742b98c",
   "metadata": {},
   "source": [
    "### Simulation Code <a name=\"code\"></a>\n",
    "---"
   ]
  },
  {
   "cell_type": "code",
   "execution_count": 56,
   "id": "6b52effa-0743-4a3f-8542-090cb3466a53",
   "metadata": {},
   "outputs": [],
   "source": [
    "# Simulation 1: low dimensional data, uninformative, uncorrelated predictors\n",
    "if(simulate == TRUE){\n",
    "    \n",
    "    runs <- 10\n",
    "    num_trees <- 200\n",
    "    \n",
    "    set.seed(2834765)\n",
    "    sim_seeds <- sample(1:10e5, size = runs, replace = FALSE)\n",
    "    \n",
    "    cl <- parallel::makeForkCluster(n_cores - 1)\n",
    "    \n",
    "    for(i in 1:runs){\n",
    "        data_1 <- data_generator_A(seed = sim_seeds[i], n = 100, catvec = c(2,4,6,8,10), ncont = 1)\n",
    "        \n",
    "        ### CART random forest\n",
    "        rf_1 <- randomForest::randomForest(Y ~ ., data = data_1, importance = TRUE, ntree = num_trees)\n",
    "        saveRDS(object = rf_1, file = paste0(\"Data/Simulation_1/CART_rf/CART_rf_it\", i, \".RDS\"))\n",
    "        \n",
    "        ### CIT random forest\n",
    "        CIRF_1 <- cforest(Y ~ ., data = data_1, ntree = num_trees)\n",
    "        saveRDS(object = CIRF_1, file = paste0(\"Data/Simulation_1/CIT_rf/CIT_rf_it\", i, \".RDS\"))\n",
    "        \n",
    "        ### Altmann et al. (2010) - CART random forests\n",
    "        Altm_CART_1 <- Altm_Null_Imp(cl = cl, seed = sim_seeds[i], df = data_1, ntree = num_trees,\n",
    "                                 reps = 200, rf_type = 'randomForest')\n",
    "    \n",
    "        Altm_CART_NULLIMP_1 <- Altm_NullImp_Transf(Altm_CART_1, rf_type = 'randomForest')\n",
    "        \n",
    "        saveRDS(object = Altm_CART_NULLIMP_1, file = paste0(\"Data/Simulation_1/Altmann/CART/it_\", i, \".RDS\"))\n",
    "        \n",
    "        ### Altmann et al. (2010) - CIT random forests\n",
    "        #Altm_CIT_1 <- Altm_Null_Imp(cl = cl, seed = sim_seeds[i], df = data_1, ntree = num_trees,\n",
    "        #                        reps = 200, rf_type = 'cforest')\n",
    "    \n",
    "        #Altm_CIT_NULLIMP_1 <- Altm_NullImp_Transf(Altm_CIT_1, rf_type = 'cforest')\n",
    "        \n",
    "        #saveRDS(object = Altm_CIT_NULLIMP_1, file = paste0(\"Data/Simulation_1/Altmann/CIT/it_\", i, \".RDS\"))\n",
    "        \n",
    "        ### Hapfelmeier and Ulm (2013) - CART random forests\n",
    "        \n",
    "        HU_CART_1 <- HU_Null_Imp(cl = cl, seed = sim_seeds[i], df = data_1, ntree = num_trees,\n",
    "                             reps = 100, rf_type = 'randomForest')\n",
    "    \n",
    "        HU_CART_NULLIMP_1 <- HU_NullImp_RF_Transf(HU_CART_1, rf_type = 'randomForest')\n",
    "        \n",
    "        saveRDS(object = HU_CART_NULLIMP_1, file = paste0(\"Data/Simulation_1/Hapfelmeier/CART/it_\", i, \".RDS\"))\n",
    "        \n",
    "        ### Hapfelmeier and Ulm (2013) - CIT random forests\n",
    "        \n",
    "    }\n",
    "    \n",
    "    stopCluster(cl)\n",
    "}"
   ]
  },
  {
   "cell_type": "markdown",
   "id": "e3648f98-12f3-4cee-9b23-c60fdd546c2d",
   "metadata": {},
   "source": [
    "#### Feature Selection Procedures"
   ]
  },
  {
   "cell_type": "markdown",
   "id": "cdd55140-99be-4476-a2e5-d0e3e146904b",
   "metadata": {},
   "source": [
    "2. Conditional Inference Random Forest "
   ]
  },
  {
   "cell_type": "code",
   "execution_count": 13,
   "id": "f10ddbc3-681c-4b7c-9c8b-94792d0da6e1",
   "metadata": {},
   "outputs": [],
   "source": [
    "if(simulate == TRUE){\n",
    "    CIRF_1 <- cforest(Y ~ ., data = data_1)\n",
    "    if(overwrite == TRUE){saveRDS(object = CIRF_1, file = \"Models/Simulation_1/CIRF_1.RDS\")}\n",
    "} else{\n",
    "    if(file.exists(\"Models/Simulation_1/CIRF_1.RDS\")){CIRF_1 <- readRDS(file = \"Models/Simulation_1/CIRF_1.RDS\")}\n",
    "    else{stop(\"Model was supposed to be read from disk, but file doesn't exist.\")}\n",
    "}"
   ]
  },
  {
   "cell_type": "code",
   "execution_count": 24,
   "id": "faf51a0b-cc9b-4c9c-8825-0697e5874f5f",
   "metadata": {},
   "outputs": [],
   "source": [
    "CIRF_VarImp_uncond <- varimp(CIRF_1, conditional = FALSE)\n",
    "CIRF_VarImp_cond <- varimp(CIRF_1, conditional = TRUE)"
   ]
  },
  {
   "cell_type": "code",
   "execution_count": 30,
   "id": "d47738a4-a5df-4c54-8359-a788e1be5108",
   "metadata": {},
   "outputs": [
    {
     "name": "stdout",
     "output_type": "stream",
     "text": [
      " [1] -3.533601e-04 -1.167932e-05  1.916998e-03 -9.987238e-04 -1.782444e-03\n",
      " [6] -1.828396e-03 -5.924409e-05 -2.768858e-04  2.834265e-04 -1.323762e-03\n",
      "[11]  2.756385e-04\n",
      " [1] -3.668655e-04 -8.715384e-04  1.280947e-03 -8.652573e-04 -1.039321e-03\n",
      " [6] -6.645597e-04  1.030808e-04  3.147472e-05  2.326507e-04 -8.149177e-04\n",
      "[11]  2.242693e-05\n"
     ]
    }
   ],
   "source": [
    "print(unname(CIRF_VarImp_uncond))\n",
    "print(unname(CIRF_VarImp_cond))"
   ]
  },
  {
   "cell_type": "markdown",
   "id": "d1719ad4-835e-40bd-a441-d08e9bba7ac0",
   "metadata": {},
   "source": [
    "3. Altmann et al. (2010) with nonparametric p-values"
   ]
  },
  {
   "cell_type": "code",
   "execution_count": 36,
   "id": "aeacc259-f05d-45ac-a788-5202f8e7436f",
   "metadata": {},
   "outputs": [
    {
     "name": "stdout",
     "output_type": "stream",
     "text": [
      "$uncond\n",
      "              [,1]          [,2]          [,3]          [,4]         [,5]\n",
      "[1,]  0.0005699381 -0.0025033865 -0.0004346946 -0.0003446557  0.004969486\n",
      "[2,] -0.0009756386 -0.0041382273 -0.0012896411  0.0010494617 -0.001845064\n",
      "[3,]  0.0003459496  0.0009576577 -0.0042910552 -0.0048411777 -0.003045310\n",
      "[4,] -0.0017831125  0.0016678203 -0.0042772899 -0.0003927695  0.002728439\n",
      "[5,] -0.0035169599 -0.0033357992  0.0013029253 -0.0034089625 -0.007406599\n",
      "[6,]  0.0012046288 -0.0010485127 -0.0007448478 -0.0021682780  0.000396489\n",
      "             [,6]         [,7]          [,8]         [,9]        [,10]\n",
      "[1,]  0.001073481  0.002894695  0.0037051001 -0.001191734  0.001251165\n",
      "[2,] -0.001416691  0.000414656 -0.0023190489 -0.001709935 -0.004040006\n",
      "[3,]  0.008816595 -0.003517528  0.0090886789  0.001415617 -0.003864138\n",
      "[4,]  0.004303514 -0.002935674 -0.0008120119  0.007623720 -0.001976854\n",
      "[5,] -0.001005450  0.002337200  0.0013556882 -0.003972993 -0.007093516\n",
      "[6,] -0.001501915 -0.004013023 -0.0019226765 -0.002787942 -0.003756873\n",
      "\n",
      "$cond\n",
      "             [,1]          [,2]          [,3]         [,4]          [,5]\n",
      "[1,]  0.002354877 -0.0005522659 -0.0022133025 -0.001105319  4.060623e-03\n",
      "[2,] -0.001463388 -0.0026738726 -0.0012215197  0.002857226 -2.736092e-05\n",
      "[3,]  0.002010825 -0.0009606671 -0.0053443878 -0.004925989 -5.258468e-03\n",
      "[4,] -0.001351160  0.0002346133 -0.0076768375  0.002501630  4.267698e-03\n",
      "[5,] -0.005146721 -0.0033442359  0.0006970985 -0.003998541 -5.016337e-03\n",
      "[6,] -0.000323731 -0.0023161315 -0.0007870568  0.000111690  2.160042e-03\n",
      "             [,6]          [,7]         [,8]          [,9]        [,10]\n",
      "[1,] -0.002237153  0.0028848369  0.003823030 -0.0016334938  0.001010712\n",
      "[2,] -0.001665821  0.0001629339 -0.001348849  0.0001009397 -0.001197354\n",
      "[3,]  0.005183794  0.0003697746  0.009001249 -0.0004362229 -0.004150490\n",
      "[4,]  0.006335690 -0.0027043357 -0.001821579  0.0072066386 -0.003092608\n",
      "[5,] -0.002381966  0.0056511623  0.001283210 -0.0046037924 -0.002869985\n",
      "[6,] -0.001836535 -0.0015191038 -0.002333512 -0.0027497835 -0.001713776\n",
      "\n"
     ]
    }
   ],
   "source": [
    "print(Altm_CIT_NULLIMP_1)"
   ]
  },
  {
   "cell_type": "markdown",
   "id": "e493e408-d470-4ab8-a7aa-55e7915633b0",
   "metadata": {},
   "source": [
    "### Simulation Results <a name=\"res\"></a>\n",
    "---"
   ]
  },
  {
   "cell_type": "markdown",
   "id": "45266768-23cd-4ba5-ab11-5bacb3202b75",
   "metadata": {},
   "source": [
    "## Application <a name=\"application\"></a>\n",
    "---"
   ]
  },
  {
   "cell_type": "markdown",
   "id": "80a9b847-38ac-4c1f-8a28-918a92acebfd",
   "metadata": {},
   "source": [
    "## Conclusion <a name=\"conclusion\"></a>\n",
    "---"
   ]
  },
  {
   "cell_type": "markdown",
   "id": "a963085d-3ca6-4438-94fe-7625ad561e0b",
   "metadata": {},
   "source": [
    "## Outlook and Possible Extensions <a name=\"outlook\"></a>\n",
    "---"
   ]
  },
  {
   "cell_type": "markdown",
   "id": "88899e63-deec-43d3-82d0-cea8549a03a0",
   "metadata": {},
   "source": [
    "## Bibliography <a name=\"bibliography\"></a>\n",
    "---\n",
    "* Altmann, André, Laura Toloşi, Oliver Sander, and Thomas Lengauer. “Permutation Importance: A Corrected Feature Importance Measure.” Bioinformatics (Oxford, England) 26, no. 10 (May 15, 2010): 1340–47. https://doi.org/10.1093/bioinformatics/btq134.\n",
    "* Bickel, Peter J., and Jian-Jian Ren. “The Bootstrap in Hypothesis Testing.” State of the Art in Probability and Statistics, January 1, 2001, 91–112. https://doi.org/10.1214/lnms/1215090064.\n",
    "* Breiman, Leo. “Random Forests.” Machine Learning 45, no. 1 (October 1, 2001): 5–32. https://doi.org/10.1023/A:1010933404324.\n",
    "* Breiman, Leo, Jerome Friedman, Charles J. Stone, and R. A. Olshen. Classification and Regression Trees. Taylor & Francis, 1984.\n",
    "* Dobra, Alin, and Johannes Gehrke. “Bias Correction in Classification Tree Construction.” In Proceedings of the Eighteenth International Conference on Machine Learning, 90–97. ICML ’01. San Francisco, CA, USA: Morgan Kaufmann Publishers Inc., 2001.\n",
    "* Hapfelmeier, A., and K. Ulm. “A New Variable Selection Approach Using Random Forests.” Computational Statistics & Data Analysis 60 (April 1, 2013): 50–69. https://doi.org/10.1016/j.csda.2012.09.020.\n",
    "* Hapfelmeier, Alexander, Torsten Hothorn, Kurt Ulm, and Carolin Strobl. “A New Variable Importance Measure for Random Forests with Missing Data.” Statistics and Computing 24, no. 1 (January 1, 2014): 21–34. https://doi.org/10.1007/s11222-012-9349-1.\n",
    "* Ho, Tin Kam. “Random Decision Forests.” In Proceedings of 3rd International Conference on Document Analysis and Recognition, 1:278–82 vol.1, 1995. https://doi.org/10.1109/ICDAR.1995.598994.\n",
    "* Hothorn, Torsten, Kurt Hornik, and Achim Zeileis. “Unbiased Recursive Partitioning: A Conditional Inference Framework.” Journal of Computational and Graphical Statistics 15, no. 3 (September 1, 2006): 651–74. https://doi.org/10.1198/106186006X133933.\n",
    "* Hothorn, Torsten, and Achim Zeileis. “Partykit: A Modular Toolkit for Recursive Partytioning in R.” Journal of Machine Learning Research 16, no. 118 (2015): 3905–9.\n",
    "* Ishwaran, Hemant. “Variable Importance in Binary Regression Trees and Forests.” Electronic Journal of Statistics 1, no. none (January 2007): 519–37. https://doi.org/10.1214/07-EJS039.\n",
    "* James, Gareth, Daniela Witten, Trevor Hastie, and Robert Tibshirani. An Introduction to Statistical Learning: With Applications in R. 1st ed. 2013, Corr. 7th printing 2017 edition. New York: Springer, 2013.\n",
    "* Kononenko, Igor. “On Biases in Estimating Multi-Valued Attributes.” In Proceedings of the 14th International Joint Conference on Artificial Intelligence - Volume 2, 1034–40. IJCAI’95. San Francisco, CA, USA: Morgan Kaufmann Publishers Inc., 1995.\n",
    "* Liaw, Andy, and Matthew Wiener. “Classification and Regression by RandomForest.” Forest 23 (November 30, 2001).\n",
    "* “Manual On Setting Up, Using, And Understanding Random Forests V3.1.” Accessed August 8, 2021. https://www.stat.berkeley.edu/~breiman/Using_random_forests_V3.1.pdf.\n",
    "* Strasser, Helmut, and Christian Weber. “On the Asymptotic Theory of Permutation Statistics.” Paper. Vienna: SFB Adaptive Information Systems and Modelling in Economics and Management Science, WU Vienna University of Economics and Business, 1999. https://epub.wu.ac.at/102/.\n",
    "* Strobl, Carolin, Anne-Laure Boulesteix, Thomas Kneib, Thomas Augustin, and Achim Zeileis. “Conditional Variable Importance for Random Forests.” BMC Bioinformatics 9 (August 1, 2008): 307. https://doi.org/10.1186/1471-2105-9-307.\n",
    "* Strobl, Carolin, Anne-Laure Boulesteix, Achim Zeileis, and Torsten Hothorn. “Bias in Random Forest Variable Importance Measures: Illustrations, Sources and a Solution.” BMC Bioinformatics 8, no. 1 (January 25, 2007): 25. https://doi.org/10.1186/1471-2105-8-25.\n",
    "* Strobl, Carolin, and Achim Zeileis. “Danger: High Power! – Exploring the Statistical Properties of a Test for Random Forest Variable Importance.” Doc-type:workingPaper, January 30, 2008. https://doi.org/10.5282/ubm/epub.2111.\n"
   ]
  },
  {
   "cell_type": "code",
   "execution_count": null,
   "id": "2a8d4f61-379b-42ab-9304-32e7c4c62943",
   "metadata": {},
   "outputs": [],
   "source": []
  }
 ],
 "metadata": {
  "kernelspec": {
   "display_name": "R",
   "language": "R",
   "name": "ir"
  },
  "language_info": {
   "codemirror_mode": "r",
   "file_extension": ".r",
   "mimetype": "text/x-r-source",
   "name": "R",
   "pygments_lexer": "r",
   "version": "3.6.1"
  }
 },
 "nbformat": 4,
 "nbformat_minor": 5
}
