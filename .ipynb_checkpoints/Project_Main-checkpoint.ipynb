{
 "cells": [
  {
   "cell_type": "markdown",
   "id": "7088b527-0745-4428-90bb-27281e48fe97",
   "metadata": {},
   "source": [
    "Notebook by **Jakob R. Jürgens** - Final project for the course **Computational Statistics** in the summer semester 2021 - Find me at [jakobjuergens.com](https://jakobjuergens.com) <br>\n",
    "# PROJECT_NAME_PLACEHOLDER\n",
    "---\n",
    "\n",
    "## Introduction <a name=\"introduction\"></a>\n",
    "---\n",
    "\n",
    "* Feature selection using random forests and permutation tests\n",
    "* To address problems of bias towards continuous features or features with many levels\n",
    "\n",
    "## Table of Contents <a name=\"tableofcontents\"></a>\n",
    "---\n",
    "1. [Introduction](#introduction)\n",
    "2. [Table of Contents](#tableofcontents)\n",
    "3. [Preliminary Steps](#preliminaries)\n",
    "4. [Theory](#Theory)\n",
    "    1. [Conditional Inference Trees](#CIT)\n",
    "    1. [Conditional Inference Random Forests](#CIRF)\n",
    "5. [Functions for Simulation](#functions)\n",
    "6. [Simulation Study](#simulation)\n",
    "7. [Bibliography](#bibliography)"
   ]
  },
  {
   "cell_type": "markdown",
   "id": "4de19b2c-ccff-4066-86bf-c2e4ee2ff975",
   "metadata": {},
   "source": [
    "## Preliminary Steps <a name=\"preliminaries\"></a>\n",
    "---"
   ]
  },
  {
   "cell_type": "markdown",
   "id": "12e542df-9030-46b2-9c3e-fa16d50248eb",
   "metadata": {},
   "source": [
    "Package Installations if necessary:"
   ]
  },
  {
   "cell_type": "code",
   "execution_count": 6,
   "id": "0ab58a88-1f81-4006-8c5f-eceed561ea2e",
   "metadata": {},
   "outputs": [],
   "source": [
    "#install.packages(\"qut\")\n",
    "#install.packages(\"randomForest\")\n",
    "#install.packages(\"party\")\n",
    "#install.packages(\"partykit\")\n",
    "#install.packages(\"parallel\")\n",
    "#install.packages(\"MASS\")\n",
    "#install.packages(\"tidyverse\")"
   ]
  },
  {
   "cell_type": "markdown",
   "id": "c6d1eb5b-cbec-485f-80f9-287c22f0f782",
   "metadata": {},
   "source": [
    "Load packages:"
   ]
  },
  {
   "cell_type": "code",
   "execution_count": 7,
   "id": "d6a9e0bc-896f-4107-a6bf-105a2e7cba03",
   "metadata": {},
   "outputs": [],
   "source": [
    "suppressMessages(library(qut)) # for data set \"riboflavin\"\n",
    "suppressMessages(library(randomForest)) # for normal random forests\n",
    "suppressMessages(library(party)) # to allow for conditional inference trees\n",
    "suppressMessages(library(partykit)) # to allow for conditional inference random forests\n",
    "suppressMessages(library(parallel)) # for parallelisation of the simulations\n",
    "suppressMessages(library(MASS)) # for multivariate normal distributions\n",
    "suppressMessages(library(tidyverse)) # for general programming (mostly purrr & ggplot used)"
   ]
  },
  {
   "cell_type": "markdown",
   "id": "ea1ea896-a555-494b-84c2-818530848a52",
   "metadata": {},
   "source": [
    "Load Data set for application part:"
   ]
  },
  {
   "cell_type": "code",
   "execution_count": 8,
   "id": "7102a063-aa45-4d80-91e0-94fe2acf30b6",
   "metadata": {},
   "outputs": [],
   "source": [
    "data(riboflavin)"
   ]
  },
  {
   "cell_type": "markdown",
   "id": "821ec4ef-51c0-408c-a8d7-d9ee55eefb2b",
   "metadata": {},
   "source": [
    "## Theory <a name=\"theory\"></a>\n",
    "---\n",
    "\n",
    "### Conditional Inference Trees <a name=\"CIT\"></a>\n",
    "\n",
    "### Conditional Inference Random Forests <a name=\"CIRF\"></a>"
   ]
  },
  {
   "cell_type": "markdown",
   "id": "72680def-9d63-486d-a5c6-614d406c12ca",
   "metadata": {},
   "source": [
    "## Functions for Simulation <a name=\"functions\"></a>\n",
    "---"
   ]
  },
  {
   "cell_type": "markdown",
   "id": "dd717583-87a2-449b-abf1-846a5c61362d",
   "metadata": {},
   "source": [
    "#### permute_dim\n",
    "\n",
    "This function takes an index **i** and a data.frame / tibble **df** and randomly permutes the covariate / the dependent variable corresponding to the given index. <br>\n",
    "As an example **i = 2** corresponds to **X_2**. To permute **Y** set **i == 0**."
   ]
  },
  {
   "cell_type": "code",
   "execution_count": 29,
   "id": "e9f5d42a-3fdc-43aa-b0d2-6b02c1577395",
   "metadata": {},
   "outputs": [],
   "source": [
    "# i: index of column to permute, if i == 0 permute Y\n",
    "# df: data.frame or tibble with data\n",
    "\n",
    "permute_dim <- function(i = 0, df){\n",
    "    \n",
    "    # check if index is out of bounds\n",
    "    if((i < 0) || (i > dim(df)[2] - 1)){\n",
    "        stop(\"'permute_dim' - index error\")\n",
    "    }\n",
    "    \n",
    "    n_obs <- dim(df)[1]\n",
    "    # permute Y if i == 0\n",
    "    if(i == 0){\n",
    "        df$Y <- sample(df$Y, size = n_obs, replace = FALSE)\n",
    "    } \n",
    "    # Otherwise permute chosen column of X\n",
    "    else{\n",
    "        df[[i+1]] <- sample(df[[i+1]], size = n_obs, replace = FALSE)\n",
    "    }\n",
    "    # return permuted objects for further analysis\n",
    "    return(df)\n",
    "}"
   ]
  },
  {
   "cell_type": "markdown",
   "id": "32b7e5b1-16d5-43be-9440-a74bc02829f1",
   "metadata": {},
   "source": [
    "#### parallel_helper\n",
    "This function acts as a helper to the parallelized procedure. Given an index **i** and a data.frame / tibble **df**, it randomly permutes the entry corresponding to the index and creates a conditional inference random forest using the partially permuted data. <br>\n",
    "The conditional inference random forest is then returned."
   ]
  },
  {
   "cell_type": "code",
   "execution_count": 24,
   "id": "f1748fd4-aae0-4bc8-afa1-7f261040c770",
   "metadata": {},
   "outputs": [],
   "source": [
    "# i: index of column to permute, if i == 0 permute Y\n",
    "# df: data.frame or tibble with data\n",
    "# seed: seed for random number generation\n",
    "\n",
    "parallel_helper <- function(i, df, seed){\n",
    "    \n",
    "    #set seed to ensure reproducibility\n",
    "    set.seed(seed)\n",
    "    \n",
    "    # randomly permute chosen entry\n",
    "    tmp_df <- permute_dim(i, df)\n",
    "    \n",
    "    # return conditional inference random forest\n",
    "    return(cforest(formula = Y ~ ., data = tmp_df))\n",
    "}"
   ]
  },
  {
   "cell_type": "markdown",
   "id": "18aa0c64-2117-4e73-be31-49f0ad19afc9",
   "metadata": {},
   "source": [
    "#### parallel_permute_forest\n",
    "This function acts as a wrapper to **parallel_helper** and performs non-load-balanced cluster parallelization to speed up the process while still ensuring reproducibility. <br>\n",
    "Its arguments are:\n",
    "* **cl**: a cluster object generated by the parallel package (for UNIX based systems use Forking Cluster, for Windows switch function calls to PSOCK Cluster and ensure that functions are available in the scope of the respective nodes)"
   ]
  },
  {
   "cell_type": "code",
   "execution_count": 28,
   "id": "756a6401-2e2a-497b-95e7-58b6fa419086",
   "metadata": {},
   "outputs": [],
   "source": [
    "# cl: cluster object generated by parallel package\n",
    "# i: index of column to permute, if i == 0 permute Y\n",
    "# df: data.frame or tibble with data\n",
    "# reps: number of permutations and corresponding random forests\n",
    "# seeds: seeds for the permutation (set in parallel_helper)\n",
    "\n",
    "parallel_permute_forest <- function(cl, i, df, reps = NULL, seeds = NULL){\n",
    "    \n",
    "    # Check argument structure\n",
    "    if(missing(reps) && missing(seeds)){\n",
    "        stop(\"'parallel_permute_forest' - Insufficient arguments: one of reps or seeds has to be provided\")\n",
    "    } else if(length(seeds) != reps){\n",
    "        stop(\"'parallel_permute_forest' - number of seeds is different from reps\")\n",
    "    } else if(missing(seeds)){\n",
    "        seeds <- sample(1:10e8, size = reps, replace = FALSE)\n",
    "    } else if(missing(reps)){\n",
    "        reps <- length(seeds)\n",
    "    }\n",
    "    \n",
    "    # use non-load-balancing cluster parallelization to speed up the process and ensure reproducibility\n",
    "    cond_inf_rnd_frsts <- clusterApply(x = seeds,\n",
    "                                       fun = function(seed) parallel_helper(i = i, df = df, seed = seed))\n",
    "    \n",
    "    # return list of conditional inference random forests generated in parallel\n",
    "    return(cond_inf_rnd_frsts)\n",
    "}"
   ]
  },
  {
   "cell_type": "markdown",
   "id": "dadaa0cd-9aad-4b16-8647-1c78b28007c2",
   "metadata": {},
   "source": [
    "## Simulation Study <a name=\"simulation\"></a>\n",
    "---"
   ]
  },
  {
   "cell_type": "code",
   "execution_count": 18,
   "id": "15dd1cf1-c115-4d57-b1f8-a99203695c61",
   "metadata": {},
   "outputs": [
    {
     "data": {
      "text/plain": [
       "         Length Class      Mode    \n",
       "nodes    500    -none-     list    \n",
       "data      12    data.frame list    \n",
       "weights  500    -none-     list    \n",
       "fitted     2    data.frame list    \n",
       "terms      3    terms      call    \n",
       "info       2    -none-     list    \n",
       "trafo      1    -none-     function\n",
       "predictf   2    terms      call    "
      ]
     },
     "metadata": {},
     "output_type": "display_data"
    }
   ],
   "source": [
    "#Test\n",
    "n = 100\n",
    "p = 10\n",
    "\n",
    "my_mu <- rep(0, times = p)\n",
    "my_Sigma <- diag(rep(1, times = p))\n",
    "X <- cbind(rep(1, times = n), mvrnorm(n = n, mu = my_mu, Sigma = my_Sigma))\n",
    "eps <- rnorm(n = n)\n",
    "\n",
    "beta <- runif(n = p+1, min = -1, max = 1)\n",
    "Y = X %*% beta + eps\n",
    "\n",
    "my_tibble <- cbind(tibble(Y = Y), suppressWarnings(as_tibble(X)))\n",
    "names(my_tibble) <- c('Y', paste0(\"X_\", as.character(1:p)))\n",
    "\n",
    "cond_forest <- cforest(formula = Y ~ ., data = my_tibble)\n",
    "summary(cond_forest)"
   ]
  },
  {
   "cell_type": "markdown",
   "id": "3f0a5800-e00e-4cfa-810f-a975c10729d5",
   "metadata": {},
   "source": [
    "## Application\n",
    "---\n"
   ]
  },
  {
   "cell_type": "markdown",
   "id": "88899e63-deec-43d3-82d0-cea8549a03a0",
   "metadata": {},
   "source": [
    "## Bibliography <a name=\"bibliography\"></a>\n",
    "---\n",
    "* Hapfelmeier, A., and K. Ulm. “A New Variable Selection Approach Using Random Forests.” Computational Statistics & Data Analysis 60 (April 1, 2013): 50–69. https://doi.org/10.1016/j.csda.2012.09.020.\n",
    "* Hothorn, Torsten, Kurt Hornik, and Achim Zeileis. “Unbiased Recursive Partitioning: A Conditional Inference Framework.” Journal of Computational and Graphical Statistics 15, no. 3 (September 1, 2006): 651–74. https://doi.org/10.1198/106186006X133933.\n",
    "* Hothorn, Torsten, and Achim Zeileis. “Partykit: A Modular Toolkit for Recursive Partytioning in R.” Journal of Machine Learning Research 16, no. 118 (2015): 3905–9.\n",
    "* Strobl, Carolin, Anne-Laure Boulesteix, Thomas Kneib, Thomas Augustin, and Achim Zeileis. “Conditional Variable Importance for Random Forests.” BMC Bioinformatics 9 (August 1, 2008): 307. https://doi.org/10.1186/1471-2105-9-307."
   ]
  },
  {
   "cell_type": "code",
   "execution_count": null,
   "id": "3fb1694e-62c0-4acc-a8df-f221fd2f1e7a",
   "metadata": {},
   "outputs": [],
   "source": []
  }
 ],
 "metadata": {
  "kernelspec": {
   "display_name": "R",
   "language": "R",
   "name": "ir"
  },
  "language_info": {
   "codemirror_mode": "r",
   "file_extension": ".r",
   "mimetype": "text/x-r-source",
   "name": "R",
   "pygments_lexer": "r",
   "version": "3.6.1"
  }
 },
 "nbformat": 4,
 "nbformat_minor": 5
}
