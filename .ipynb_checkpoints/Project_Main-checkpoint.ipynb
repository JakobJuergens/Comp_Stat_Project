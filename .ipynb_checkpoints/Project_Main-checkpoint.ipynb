{
 "cells": [
  {
   "cell_type": "markdown",
   "id": "d8dd443a-0670-46e2-9518-0f7141cf6405",
   "metadata": {},
   "source": [
    "Package Installations if necessary:"
   ]
  },
  {
   "cell_type": "code",
   "execution_count": 17,
   "id": "0ab58a88-1f81-4006-8c5f-eceed561ea2e",
   "metadata": {},
   "outputs": [],
   "source": [
    "#install.packages(\"qut\")"
   ]
  },
  {
   "cell_type": "markdown",
   "id": "c6d1eb5b-cbec-485f-80f9-287c22f0f782",
   "metadata": {},
   "source": [
    "Load packages:"
   ]
  },
  {
   "cell_type": "code",
   "execution_count": 18,
   "id": "d6a9e0bc-896f-4107-a6bf-105a2e7cba03",
   "metadata": {},
   "outputs": [],
   "source": [
    "suppressMessages(library(qut)) # for data set \"riboflavin\"\n",
    "suppressMessages(library(randomForest)) # for normal random forests\n",
    "suppressMessages(library(party)) # to allow for conditional inference trees\n",
    "suppressMessages(library(partykit)) # to allow for conditional inference random forests\n",
    "suppressMessages(library(parallel)) # for parallelisation of the simulations"
   ]
  },
  {
   "cell_type": "markdown",
   "id": "e040eccc-fa73-4767-b6b0-d11ccb3e5844",
   "metadata": {},
   "source": [
    "Load Data set for application part:"
   ]
  },
  {
   "cell_type": "code",
   "execution_count": 19,
   "id": "4250176d-aac8-4894-899b-5c6b7ba57061",
   "metadata": {},
   "outputs": [],
   "source": [
    "data(riboflavin)"
   ]
  },
  {
   "cell_type": "markdown",
   "id": "84d0cdac-bd14-4878-8347-2cbde6540314",
   "metadata": {},
   "source": [
    "## Bibliography\n",
    "---\n",
    "* Hapfelmeier, A., and K. Ulm. “A New Variable Selection Approach Using Random Forests.” Computational Statistics & Data Analysis 60: 50–69\n",
    "* Hothorn, Torsten, Kurt Hornik, and Achim Zeileis. “Unbiased Recursive Partitioning: A Conditional Inference Framework.” Journal of Computational and Graphical Statistics 15, no. 3: 651–74\n"
   ]
  }
 ],
 "metadata": {
  "kernelspec": {
   "display_name": "R",
   "language": "R",
   "name": "ir"
  },
  "language_info": {
   "codemirror_mode": "r",
   "file_extension": ".r",
   "mimetype": "text/x-r-source",
   "name": "R",
   "pygments_lexer": "r",
   "version": "3.6.1"
  }
 },
 "nbformat": 4,
 "nbformat_minor": 5
}
