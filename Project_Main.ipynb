{
 "cells": [
  {
   "cell_type": "markdown",
   "id": "d8dd443a-0670-46e2-9518-0f7141cf6405",
   "metadata": {},
   "source": [
    "Package Installations if necessary:"
   ]
  },
  {
   "cell_type": "code",
   "execution_count": 3,
   "id": "0ab58a88-1f81-4006-8c5f-eceed561ea2e",
   "metadata": {},
   "outputs": [],
   "source": [
    "#install.packages(\"qut\")"
   ]
  },
  {
   "cell_type": "markdown",
   "id": "c6d1eb5b-cbec-485f-80f9-287c22f0f782",
   "metadata": {},
   "source": [
    "Load packages:"
   ]
  },
  {
   "cell_type": "code",
   "execution_count": 13,
   "id": "1c58ce55-05b1-4cc6-a255-9962fc7ca873",
   "metadata": {},
   "outputs": [],
   "source": [
    "suppressMessages(library(qut)) # for data set\n",
    "suppressMessages(library(randomForest))\n",
    "suppressMessages(library(parallel))"
   ]
  },
  {
   "cell_type": "code",
   "execution_count": null,
   "id": "60a7e798-a8b4-499d-819b-d20a14ada414",
   "metadata": {},
   "outputs": [],
   "source": [
    "data(riboflavin)"
   ]
  }
 ],
 "metadata": {
  "kernelspec": {
   "display_name": "R",
   "language": "R",
   "name": "ir"
  },
  "language_info": {
   "codemirror_mode": "r",
   "file_extension": ".r",
   "mimetype": "text/x-r-source",
   "name": "R",
   "pygments_lexer": "r",
   "version": "3.6.1"
  }
 },
 "nbformat": 4,
 "nbformat_minor": 5
}
